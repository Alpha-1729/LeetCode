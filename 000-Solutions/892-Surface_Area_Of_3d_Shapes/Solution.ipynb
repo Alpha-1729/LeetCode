{
 "cells": [
  {
   "cell_type": "code",
   "execution_count": null,
   "metadata": {},
   "outputs": [],
   "source": [
    "// Surface Area Of 3d Shapes\n",
    "\n",
    "/*\n",
    ">>>>\n",
    ">>>>\n",
    ">>>>\n",
    ">>>>\n",
    "*/\n"
   ]
  },
  {
   "cell_type": "markdown",
   "metadata": {},
   "source": [
    "# Approach.\n"
   ]
  },
  {
   "cell_type": "code",
   "execution_count": null,
   "metadata": {},
   "outputs": [],
   "source": [
    "class Solution {\n",
    "\n",
    "  public int projectionArea(int[][] grid) {\n",
    "    int area = 0;\n",
    "    int n = grid.length;\n",
    "\n",
    "    for (int i = 0; i < n; i++) {\n",
    "      int rowMax = 0;\n",
    "      int columnMax = 0;\n",
    "      for (int j = 0; j < n; j++) {\n",
    "        if (grid[i][j] > rowMax) rowMax = grid[i][j];\n",
    "        if (grid[j][i] > columnMax) columnMax = grid[j][i];\n",
    "        area += grid[i][j];\n",
    "      }\n",
    "      area += (rowMax + columnMax);\n",
    "    }\n",
    "    return area * 2;\n",
    "  }\n",
    "}\n"
   ]
  },
  {
   "cell_type": "code",
   "execution_count": null,
   "metadata": {},
   "outputs": [],
   "source": [
    "Solution s = new Solution();\n",
    "s.fib(30);"
   ]
  }
 ],
 "metadata": {
  "kernelspec": {
   "display_name": "Java",
   "language": "java",
   "name": "java"
  },
  "language_info": {
   "codemirror_mode": "java",
   "file_extension": ".jshell",
   "mimetype": "text/x-java-source",
   "name": "java",
   "pygments_lexer": "java",
   "version": "21.0.2+13-LTS-58"
  }
 },
 "nbformat": 4,
 "nbformat_minor": 2
}
