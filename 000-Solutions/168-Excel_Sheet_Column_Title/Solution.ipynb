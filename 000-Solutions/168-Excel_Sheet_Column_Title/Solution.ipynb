{
 "cells": [
  {
   "cell_type": "code",
   "execution_count": null,
   "metadata": {
    "vscode": {
     "languageId": "java"
    }
   },
   "outputs": [],
   "source": [
    "// Excel Sheet Column Title\n",
    "\n",
    "/*\n",
    ">>>>\n",
    ">>>>\n",
    ">>>>\n",
    ">>>>\n",
    "*/\n"
   ]
  },
  {
   "cell_type": "markdown",
   "metadata": {},
   "source": [
    "# Approach\n",
    "- We calculate remainder = columnNumber % 26.\n",
    "- If the remainder is 0 we append Z to the end of the string.\n",
    "- Else we append the corresponding character to the end of the string.\n",
    "- The we divide the columnNumber by 26\n",
    "- Then repeat the process."
   ]
  },
  {
   "cell_type": "code",
   "execution_count": 96,
   "metadata": {
    "vscode": {
     "languageId": "java"
    }
   },
   "outputs": [],
   "source": [
    "class Solution {\n",
    "\n",
    "  public String convertToTitle(int columnNumber) {\n",
    "    StringBuilder sb = new StringBuilder();\n",
    "\n",
    "    while (columnNumber > 0) {\n",
    "      columnNumber--;\n",
    "      sb.append((char) (columnNumber % 26 + 'A'));\n",
    "      columnNumber /= 26;\n",
    "    }\n",
    "\n",
    "    return sb.reverse().toString();\n",
    "  }\n",
    "}\n"
   ]
  },
  {
   "cell_type": "code",
   "execution_count": 97,
   "metadata": {
    "vscode": {
     "languageId": "java"
    }
   },
   "outputs": [
    {
     "data": {
      "text/plain": [
       "ZY"
      ]
     },
     "execution_count": 97,
     "metadata": {},
     "output_type": "execute_result"
    }
   ],
   "source": [
    "// Best solution.\n",
    "class Solution {\n",
    "\n",
    "  public String convertToTitle(int num) {\n",
    "    StringBuilder result = new StringBuilder();\n",
    "    while (num > 0) {\n",
    "      num--;\n",
    "      int offset = num % 26;\n",
    "      result.insert(0, (char) (offset + 'A'));\n",
    "      num /= 26;\n",
    "    }\n",
    "    return result.toString();\n",
    "  }\n",
    "}\n"
   ]
  }
 ],
 "metadata": {
  "kernelspec": {
   "display_name": "Java",
   "language": "java",
   "name": "java"
  },
  "language_info": {
   "codemirror_mode": "java",
   "file_extension": ".jshell",
   "mimetype": "text/x-java-source",
   "name": "Java",
   "pygments_lexer": "java",
   "version": "21.0.2+13-LTS-58"
  }
 },
 "nbformat": 4,
 "nbformat_minor": 2
}
