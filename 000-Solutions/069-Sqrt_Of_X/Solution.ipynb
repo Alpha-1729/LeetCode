{
 "cells": [
  {
   "cell_type": "code",
   "execution_count": null,
   "metadata": {
    "vscode": {
     "languageId": "java"
    }
   },
   "outputs": [],
   "source": [
    "// Sqrt Of X\n",
    "\n",
    "/*\n",
    ">>>>\n",
    ">>>>\n",
    ">>>>\n",
    ">>>>\n",
    "*/\n"
   ]
  },
  {
   "cell_type": "markdown",
   "metadata": {},
   "source": [
    "# Approach\n",
    "- Use Binary Search.\n",
    "  - Reduce the range of possible numbers for the square root of the number.\n",
    "  - Initially the range of number is from  1 - x.\n",
    "  - Take a middle number **mid** between 1 and x.\n",
    "  - Determine whether the square root exist in [0, mid] or [mid, x]\n",
    "  - Reduce this range of numbers in each iteration."
   ]
  },
  {
   "cell_type": "code",
   "execution_count": 10,
   "metadata": {
    "vscode": {
     "languageId": "java"
    }
   },
   "outputs": [],
   "source": [
    "class Solution {\n",
    "\n",
    "  public int mySqrt(int x) {\n",
    "    if (x == 0 | x == 1) return x;\n",
    "\n",
    "    int beg = 0, end = x;\n",
    "\n",
    "    while (end - beg > 1) {\n",
    "      int mid = (beg + end) / 2;\n",
    "\n",
    "      if (mid == x / mid) {\n",
    "        return mid;\n",
    "      } else if (mid < x / mid) {\n",
    "        beg = mid;\n",
    "      } else {\n",
    "        end = mid;\n",
    "      }\n",
    "    }\n",
    "    return beg;\n",
    "  }\n",
    "}\n"
   ]
  },
  {
   "cell_type": "code",
   "execution_count": 13,
   "metadata": {
    "vscode": {
     "languageId": "java"
    }
   },
   "outputs": [
    {
     "data": {
      "text/plain": [
       "1"
      ]
     },
     "execution_count": 13,
     "metadata": {},
     "output_type": "execute_result"
    }
   ],
   "source": [
    "Solution a = new Solution();\n",
    "a.mySqrt(2);"
   ]
  },
  {
   "cell_type": "code",
   "execution_count": null,
   "metadata": {
    "vscode": {
     "languageId": "java"
    }
   },
   "outputs": [],
   "source": [
    "21\n",
    "\n",
    "0 NA 21\n",
    "0 10 21"
   ]
  }
 ],
 "metadata": {
  "kernelspec": {
   "display_name": "Java",
   "language": "java",
   "name": "java"
  },
  "language_info": {
   "codemirror_mode": "java",
   "file_extension": ".jshell",
   "mimetype": "text/x-java-source",
   "name": "Java",
   "pygments_lexer": "java",
   "version": "21.0.2+13-LTS-58"
  }
 },
 "nbformat": 4,
 "nbformat_minor": 2
}
