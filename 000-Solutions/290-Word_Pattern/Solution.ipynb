{
 "cells": [
  {
   "cell_type": "code",
   "execution_count": 1,
   "metadata": {
    "vscode": {
     "languageId": "java"
    }
   },
   "outputs": [],
   "source": [
    "// Word Pattern\n",
    "\n",
    "/*\n",
    ">>>>\n",
    ">>>>\n",
    ">>>>\n",
    ">>>>\n",
    "*/\n"
   ]
  },
  {
   "cell_type": "code",
   "execution_count": 29,
   "metadata": {
    "vscode": {
     "languageId": "java"
    }
   },
   "outputs": [],
   "source": [
    "class Solution {\n",
    "\n",
    "  public boolean wordPattern(String pattern, String s) {\n",
    "    String[] words = s.split(\" \");\n",
    "    if (pattern.length() != words.length) return false;\n",
    "\n",
    "    Map<Character, String> map = new HashMap<>();\n",
    "    for (int i = 0; i < pattern.length(); i++) {\n",
    "      char c = pattern.charAt(i);\n",
    "\n",
    "      if (!map.containsKey(c)) {\n",
    "        if (!map.containsValue(words[i])) {\n",
    "          map.put(c, words[i]);\n",
    "        } else {\n",
    "          return false;\n",
    "        }\n",
    "      } else {\n",
    "        if (!map.get(c).equals(words[i])) {\n",
    "          return false;\n",
    "        }\n",
    "      }\n",
    "    }\n",
    "    return true;\n",
    "  }\n",
    "}\n"
   ]
  },
  {
   "cell_type": "code",
   "execution_count": 28,
   "metadata": {
    "vscode": {
     "languageId": "java"
    }
   },
   "outputs": [
    {
     "name": "stdout",
     "output_type": "stream",
     "text": [
      "a\n",
      "cat\n",
      "b\n",
      "bat\n",
      "b\n",
      "bat\n",
      "a\n",
      "cat\n",
      "d\n",
      "how\n",
      "d\n",
      "how\n",
      "{a=cat, b=bat, d=how}\n"
     ]
    },
    {
     "data": {
      "text/plain": [
       "true"
      ]
     },
     "execution_count": 28,
     "metadata": {},
     "output_type": "execute_result"
    }
   ],
   "source": []
  }
 ],
 "metadata": {
  "kernelspec": {
   "display_name": "Java",
   "language": "java",
   "name": "java"
  },
  "language_info": {
   "codemirror_mode": "java",
   "file_extension": ".jshell",
   "mimetype": "text/x-java-source",
   "name": "Java",
   "pygments_lexer": "java",
   "version": "21.0.2+13-LTS-58"
  }
 },
 "nbformat": 4,
 "nbformat_minor": 2
}
