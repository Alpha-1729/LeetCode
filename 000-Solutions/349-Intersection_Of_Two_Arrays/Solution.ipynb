{
 "cells": [
  {
   "cell_type": "code",
   "execution_count": null,
   "metadata": {
    "vscode": {
     "languageId": "java"
    }
   },
   "outputs": [],
   "source": [
    "// Intersection Of Two Arrays\n",
    "\n",
    "/*\n",
    ">>>>\n",
    ">>>>\n",
    ">>>>\n",
    ">>>>\n",
    "*/\n"
   ]
  },
  {
   "cell_type": "markdown",
   "metadata": {},
   "source": [
    "# Approach.\n",
    "- Create an array to store the intersection of the number.\n",
    "- Initially all the elements in the array will be zero.\n",
    "- Loop through the nums1 and set all values to 1;\n",
    "- Loop through the nums2 and if corresponding values in the temp array is 1 that common elements is found.\n",
    "- Add the common element to the start of the nums1, to avoid creating new array.\n",
    "- Add a counter variable to store the distinct element.\n",
    "- Slice the nums1 array till counter."
   ]
  },
  {
   "cell_type": "code",
   "execution_count": 8,
   "metadata": {
    "vscode": {
     "languageId": "java"
    }
   },
   "outputs": [],
   "source": [
    "class Solution {\n",
    "\n",
    "    public int[] intersection(int[] nums1, int[] nums2) {\n",
    "      int[] temp = new int[1001];\n",
    "  \n",
    "      for (int i : nums1) {\n",
    "        temp[i] = 1;\n",
    "      }\n",
    "  \n",
    "      int count = 0;\n",
    "      for (int i : nums2) {\n",
    "        if (temp[i] == 1) {\n",
    "          nums1[count] = i;\n",
    "          temp[i] = 2;\n",
    "          count++;\n",
    "        }\n",
    "      }\n",
    "      return getSlicedArray(nums1, count);\n",
    "    }\n",
    "  \n",
    "    public int[] getSlicedArray(int[] arr, int index) {\n",
    "      int[] result = new int[index];\n",
    "      for (int i = 0; i < index; i++) {\n",
    "        result[i] = arr[i];\n",
    "      }\n",
    "      return result;\n",
    "    }\n",
    "  }\n",
    "  "
   ]
  },
  {
   "cell_type": "code",
   "execution_count": 7,
   "metadata": {
    "vscode": {
     "languageId": "java"
    }
   },
   "outputs": [
    {
     "data": {
      "text/plain": [
       "[I@6ddb444e"
      ]
     },
     "execution_count": 7,
     "metadata": {},
     "output_type": "execute_result"
    }
   ],
   "source": [
    "Solution s = new Solution();\n",
    "int[] num1 = new int[]{1,2,2,1};\n",
    "int[] num2 = new int[]{2,2};\n",
    "s.intersection(num1, num2);"
   ]
  }
 ],
 "metadata": {
  "kernelspec": {
   "display_name": "Java",
   "language": "java",
   "name": "java"
  },
  "language_info": {
   "codemirror_mode": "java",
   "file_extension": ".jshell",
   "mimetype": "text/x-java-source",
   "name": "Java",
   "pygments_lexer": "java",
   "version": "21.0.2+13-LTS-58"
  }
 },
 "nbformat": 4,
 "nbformat_minor": 2
}
