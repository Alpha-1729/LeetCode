{
 "cells": [
  {
   "cell_type": "code",
   "execution_count": null,
   "metadata": {},
   "outputs": [],
   "source": [
    "// Design Hashset\n",
    "\n",
    "/*\n",
    ">>>>\n",
    ">>>>\n",
    ">>>>\n",
    ">>>>\n",
    "*/\n"
   ]
  },
  {
   "cell_type": "markdown",
   "metadata": {},
   "source": [
    "# Approach.\n"
   ]
  },
  {
   "cell_type": "code",
   "execution_count": null,
   "metadata": {},
   "outputs": [],
   "source": [
    "class MyHashSet {\n",
    "\n",
    "  private boolean[] data;\n",
    "\n",
    "  public MyHashSet() {\n",
    "    data = new boolean[10000001];\n",
    "  }\n",
    "\n",
    "  public void add(int key) {\n",
    "    data[key] == true;\n",
    "  }\n",
    "\n",
    "  public void remove(int key) {\n",
    "    data[key] = false;\n",
    "  }\n",
    "\n",
    "  public boolean contains(int key) {\n",
    "    return data[key] == true;\n",
    "  }\n",
    "}\n",
    "/**\n",
    " * Your MyHashSet object will be instantiated and called as such:\n",
    " * MyHashSet obj = new MyHashSet();\n",
    " * obj.add(key);\n",
    " * obj.remove(key);\n",
    " * boolean param_3 = obj.contains(key);\n",
    " */\n"
   ]
  },
  {
   "cell_type": "code",
   "execution_count": null,
   "metadata": {},
   "outputs": [],
   "source": [
    "Solution s = new Solution();\n",
    "s.fib(30);"
   ]
  }
 ],
 "metadata": {
  "kernelspec": {
   "display_name": "Java",
   "language": "java",
   "name": "java"
  },
  "language_info": {
   "codemirror_mode": "java",
   "file_extension": ".jshell",
   "mimetype": "text/x-java-source",
   "name": "java",
   "pygments_lexer": "java",
   "version": "21.0.2+13-LTS-58"
  }
 },
 "nbformat": 4,
 "nbformat_minor": 2
}
