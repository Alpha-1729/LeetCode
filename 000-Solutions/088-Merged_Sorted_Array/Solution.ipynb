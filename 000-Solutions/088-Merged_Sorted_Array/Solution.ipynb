{
 "cells": [
  {
   "cell_type": "code",
   "execution_count": null,
   "metadata": {},
   "outputs": [],
   "source": [
    "// Merged Sorted Array\n",
    "\n",
    "/*\n",
    ">>>>\n",
    ">>>>\n",
    ">>>>\n",
    ">>>>\n",
    "*/\n"
   ]
  },
  {
   "cell_type": "markdown",
   "metadata": {},
   "source": [
    "# Approach.\n",
    "- Start from the end of each array.\n",
    "- Compare the element in the last.\n",
    "- Add the largest element in the end of the first array.\n"
   ]
  },
  {
   "cell_type": "code",
   "execution_count": 32,
   "metadata": {},
   "outputs": [],
   "source": [
    "class Solution {\n",
    "\n",
    "  public void merge(int[] nums1, int m, int[] nums2, int n) {\n",
    "    while (m > 0 || n > 0) {\n",
    "      if ((n > 0 && m == 0) || (n > 0 && nums2[n - 1] > nums1[m - 1])) {\n",
    "        nums1[m + n - 1] = nums2[n - 1];\n",
    "        n--;\n",
    "      } else {\n",
    "        nums1[m + n - 1] = nums1[m - 1];\n",
    "        m--;\n",
    "      }\n",
    "    }\n",
    "    System.out.println(Arrays.toString(nums1));\n",
    "  }\n",
    "}\n"
   ]
  },
  {
   "cell_type": "code",
   "execution_count": 36,
   "metadata": {},
   "outputs": [],
   "source": [
    "// Best solution.\n",
    "class Solution {\n",
    "\n",
    "  public void merge(int[] nums1, int m, int[] nums2, int n) {\n",
    "    int i = m - 1;\n",
    "    int j = n - 1;\n",
    "    int k = m + n - 1;\n",
    "\n",
    "    while (j >= 0) {\n",
    "      if (i >= 0 && nums1[i] > nums2[j]) {\n",
    "        nums1[k--] = nums1[i--];\n",
    "      } else {\n",
    "        nums1[k--] = nums2[j--];\n",
    "      }\n",
    "    }\n",
    "  }\n",
    "}\n"
   ]
  },
  {
   "cell_type": "code",
   "execution_count": 37,
   "metadata": {},
   "outputs": [],
   "source": [
    "Solution solution = new Solution();\n",
    "\n",
    "int[] tempNums1 = new int[]{1,2,3,0,0,0}; \n",
    "int m = 3;\n",
    "\n",
    "int[] tempNums2 = new int[]{2,5,6};\n",
    "int n = 3;\n",
    "\n",
    "solution.merge(tempNums1, m, tempNums2, n);"
   ]
  }
 ],
 "metadata": {
  "kernelspec": {
   "display_name": "Java",
   "language": "java",
   "name": "java"
  },
  "language_info": {
   "codemirror_mode": "java",
   "file_extension": ".jshell",
   "mimetype": "text/x-java-source",
   "name": "java",
   "pygments_lexer": "java",
   "version": "21.0.2+13-LTS-58"
  }
 },
 "nbformat": 4,
 "nbformat_minor": 2
}
