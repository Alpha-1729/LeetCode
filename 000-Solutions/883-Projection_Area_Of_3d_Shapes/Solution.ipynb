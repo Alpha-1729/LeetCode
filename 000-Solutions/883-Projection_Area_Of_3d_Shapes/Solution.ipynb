{
 "cells": [
  {
   "cell_type": "code",
   "execution_count": null,
   "metadata": {
    "vscode": {
     "languageId": "java"
    }
   },
   "outputs": [],
   "source": [
    "// Projection Area Of 3d Shapes\n",
    "\n",
    "/*\n",
    ">>>>\n",
    ">>>>\n",
    ">>>>\n",
    ">>>>\n",
    "*/\n"
   ]
  },
  {
   "cell_type": "markdown",
   "metadata": {},
   "source": [
    "# Approach.\n",
    "- Find the max values in each row and column.\n",
    "- Find the number of non-zero values in the 2D array.\n",
    "- Add this to get the answer."
   ]
  },
  {
   "cell_type": "code",
   "execution_count": 16,
   "metadata": {
    "vscode": {
     "languageId": "java"
    }
   },
   "outputs": [],
   "source": [
    "class Solution {\n",
    "\n",
    "  public int projectionArea(int[][] grid) {\n",
    "    int n = grid.length;\n",
    "    if (n == 1) return grid[0][0] * 2 + 1;\n",
    "    int area = 0;\n",
    "\n",
    "    for (int i = 0; i < n; i++) {\n",
    "      int rowMax = 0;\n",
    "      int columnMax = 0;\n",
    "      for (int j = 0; j < n; j++) {\n",
    "        if (grid[i][j] > rowMax) rowMax = grid[i][j];\n",
    "        if (grid[j][i] > columnMax) columnMax = grid[j][i];\n",
    "        if (grid[i][j] > 0) area++;\n",
    "      }\n",
    "      area += (rowMax + columnMax);\n",
    "    }\n",
    "    return area;\n",
    "  }\n",
    "}\n"
   ]
  },
  {
   "cell_type": "code",
   "execution_count": 17,
   "metadata": {
    "vscode": {
     "languageId": "java"
    }
   },
   "outputs": [
    {
     "data": {
      "text/plain": [
       "17"
      ]
     },
     "execution_count": 17,
     "metadata": {},
     "output_type": "execute_result"
    },
    {
     "ename": "",
     "evalue": "",
     "output_type": "error",
     "traceback": [
      "\u001b[1;31mThe Kernel crashed while executing code in the the current cell or a previous cell. Please review the code in the cell(s) to identify a possible cause of the failure. Click <a href='https://aka.ms/vscodeJupyterKernelCrash'>here</a> for more info. View Jupyter <a href='command:jupyter.viewOutput'>log</a> for further details."
     ]
    }
   ],
   "source": [
    "int[][] grid = {\n",
    "    {1, 2},\n",
    "    {3, 4}\n",
    "};\n",
    "Solution s = new Solution();\n",
    "\n",
    "s.projectionArea(grid);"
   ]
  }
 ],
 "metadata": {
  "kernelspec": {
   "display_name": "Java",
   "language": "java",
   "name": "java"
  },
  "language_info": {
   "codemirror_mode": "java",
   "file_extension": ".jshell",
   "mimetype": "text/x-java-source",
   "name": "Java",
   "pygments_lexer": "java",
   "version": "21.0.2+13-LTS-58"
  }
 },
 "nbformat": 4,
 "nbformat_minor": 2
}
