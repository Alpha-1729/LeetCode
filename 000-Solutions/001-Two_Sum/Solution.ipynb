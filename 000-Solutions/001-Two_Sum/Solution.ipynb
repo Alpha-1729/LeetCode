{
 "cells": [
  {
   "cell_type": "code",
   "execution_count": null,
   "metadata": {},
   "outputs": [],
   "source": [
    "// Two Sum\n",
    "\n",
    "/*\n",
    ">>>>\n",
    ">>>>\n",
    ">>>>\n",
    ">>>>\n",
    "*/\n"
   ]
  },
  {
   "cell_type": "code",
   "execution_count": null,
   "metadata": {},
   "outputs": [],
   "source": [
    "class Solution {\n",
    "\n",
    "  public int[] twoSum(int[] nums, int target) {\n",
    "    int complement;\n",
    "    Map<Integer, Integer> numMap = new HashMap<>();\n",
    "\n",
    "    for (int i = 0; i < nums.length; i++) {\n",
    "      complement = target - nums[i];\n",
    "\n",
    "      if (numMap.containsKey(complement)) {\n",
    "        return new int[] { numMap.get(complement), i };\n",
    "      }\n",
    "      numMap.put(nums[i], i);\n",
    "    }\n",
    "    return new int[] {};\n",
    "  }\n",
    "}\n"
   ]
  }
 ],
 "metadata": {
  "kernelspec": {
   "display_name": "Java",
   "language": "java",
   "name": "java"
  },
  "language_info": {
   "name": "java"
  }
 },
 "nbformat": 4,
 "nbformat_minor": 2
}
