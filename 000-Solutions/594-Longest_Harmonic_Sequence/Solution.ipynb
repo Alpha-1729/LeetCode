{
 "cells": [
  {
   "cell_type": "code",
   "execution_count": null,
   "metadata": {
    "vscode": {
     "languageId": "java"
    }
   },
   "outputs": [],
   "source": [
    "// Longest Harmonic Sequence\n",
    "\n",
    "/*\n",
    ">>>>\n",
    ">>>>\n",
    ">>>>\n",
    ">>>>\n",
    "*/\n"
   ]
  },
  {
   "cell_type": "markdown",
   "metadata": {},
   "source": [
    "# Approach.\n"
   ]
  },
  {
   "cell_type": "code",
   "execution_count": 100,
   "metadata": {
    "vscode": {
     "languageId": "java"
    }
   },
   "outputs": [],
   "source": [
    "class Solution {\n",
    "\n",
    "  public int findLHS(int[] nums) {\n",
    "    int max = 0;\n",
    "    Map<Integer, Integer> map = new HashMap<>();\n",
    "    for (int num : nums) {\n",
    "      // System.out.println(map);\n",
    "      // System.out.println(max);\n",
    "      int currentCount = map.getOrDefault(num, -1);\n",
    "      int nextCount = map.getOrDefault(num + 1, -1);\n",
    "\n",
    "      if (currentCount == -1) {\n",
    "        max = max == 0 ? 1 : max;\n",
    "        map.put(num, 1);\n",
    "      }\n",
    "      else {\n",
    "        if ((currentCount + 1) > max) max = currentCount + 1;\n",
    "        map.put(num, currentCount + 1);\n",
    "      }\n",
    "      if (nextCount != -1) {\n",
    "        if ((nextCount + 1) > max) max = nextCount + 1;\n",
    "        map.put(num + 1, nextCount + 1);\n",
    "      }\n",
    "    }\n",
    "    // System.out.println(map);\n",
    "    // System.out.println(max);\n",
    "    return map.size() > 1 ? max+1 : 0;\n",
    "  }\n",
    "}\n"
   ]
  },
  {
   "cell_type": "code",
   "execution_count": 105,
   "metadata": {
    "vscode": {
     "languageId": "java"
    }
   },
   "outputs": [
    {
     "data": {
      "text/plain": [
       "0"
      ]
     },
     "execution_count": 105,
     "metadata": {},
     "output_type": "execute_result"
    }
   ],
   "source": [
    "Solution s = new Solution();\n",
    "int [] nums = new int[]{1,1,1,1};\n",
    "s.findLHS(nums);"
   ]
  },
  {
   "cell_type": "code",
   "execution_count": null,
   "metadata": {
    "vscode": {
     "languageId": "java"
    }
   },
   "outputs": [],
   "source": []
  }
 ],
 "metadata": {
  "kernelspec": {
   "display_name": "Java",
   "language": "java",
   "name": "java"
  },
  "language_info": {
   "codemirror_mode": "java",
   "file_extension": ".jshell",
   "mimetype": "text/x-java-source",
   "name": "Java",
   "pygments_lexer": "java",
   "version": "21.0.2+13-LTS-58"
  }
 },
 "nbformat": 4,
 "nbformat_minor": 2
}
