{
 "cells": [
  {
   "cell_type": "code",
   "execution_count": null,
   "metadata": {
    "vscode": {
     "languageId": "java"
    }
   },
   "outputs": [],
   "source": [
    "// Contains Duplicate 3\n",
    "\n",
    "/*\n",
    ">>>>\n",
    ">>>>\n",
    ">>>>\n",
    ">>>>\n",
    "*/\n"
   ]
  },
  {
   "cell_type": "code",
   "execution_count": 4,
   "metadata": {
    "vscode": {
     "languageId": "java"
    }
   },
   "outputs": [],
   "source": [
    "class Solution {\n",
    "\n",
    "  public boolean containsNearbyAlmostDuplicate(\n",
    "    int[] nums,\n",
    "    int indexDiff,\n",
    "    int valueDiff\n",
    "  ) {\n",
    "    Map<Integer, Integer> numMap = new HashMap<>();\n",
    "\n",
    "    int n = nums.length;\n",
    "    for (int i = 0; i < n; i++) {\n",
    "      int num = nums[i];\n",
    "      if (i > indexDiff) {\n",
    "        numMap.remove(i - indexDiff - 1);\n",
    "      }\n",
    "      for (Integer j: numMap.keySet()) {\n",
    "        if (Math.abs(numMap.get(j) - num) <= valueDiff){\n",
    "            return true;\n",
    "        }\n",
    "      }\n",
    "\n",
    "      numMap.put(i, nums[i]);\n",
    "    }\n",
    "\n",
    "    return false;\n",
    "  }\n",
    "}\n"
   ]
  },
  {
   "cell_type": "code",
   "execution_count": null,
   "metadata": {
    "vscode": {
     "languageId": "java"
    }
   },
   "outputs": [],
   "source": [
    "Solution  s = new Solution();\n",
    "s.containsNearbyAlmostDuplicate("
   ]
  }
 ],
 "metadata": {
  "kernelspec": {
   "display_name": "Java",
   "language": "java",
   "name": "java"
  },
  "language_info": {
   "codemirror_mode": "java",
   "file_extension": ".jshell",
   "mimetype": "text/x-java-source",
   "name": "Java",
   "pygments_lexer": "java",
   "version": "21.0.2+13-LTS-58"
  }
 },
 "nbformat": 4,
 "nbformat_minor": 2
}
