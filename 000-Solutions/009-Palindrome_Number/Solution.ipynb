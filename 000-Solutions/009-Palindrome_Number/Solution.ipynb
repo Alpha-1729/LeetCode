{
 "cells": [
  {
   "cell_type": "code",
   "execution_count": null,
   "metadata": {},
   "outputs": [],
   "source": [
    "// Palindrome Number\n",
    "\n",
    "/*\n",
    ">>>>\n",
    ">>>>\n",
    ">>>>\n",
    ">>>>\n",
    "*/\n"
   ]
  },
  {
   "cell_type": "code",
   "execution_count": null,
   "metadata": {},
   "outputs": [],
   "source": [
    "class Solution {\n",
    "\n",
    "  public boolean isPalindrome(int x) {\n",
    "    if (x < 0) return false;\n",
    "    int reverseNum = 0, originalNum = x;\n",
    "    while (x != 0) {\n",
    "      reverseNum = (reverseNum * 10) + (x % 10);\n",
    "      x /= 10;\n",
    "    }\n",
    "    return originalNum == reverseNum;\n",
    "  }\n",
    "}\n"
   ]
  },
  {
   "cell_type": "code",
   "execution_count": null,
   "metadata": {},
   "outputs": [],
   "source": [
    "// Best solution.\n",
    "class Solution {\n",
    "\n",
    "  public boolean isPalindrome(int x) {\n",
    "    if (x < 0 || (x != 0 && x % 10 == 0)) return false;\n",
    "    int reverse = 0;\n",
    "    while (x > reverse) {\n",
    "      reverse = (reverse * 10) + (x % 10);\n",
    "      x /= 10;\n",
    "    }\n",
    "    return (x == reverse || x == reverse / 10);\n",
    "  }\n",
    "}\n"
   ]
  },
  {
   "cell_type": "markdown",
   "metadata": {},
   "source": []
  },
  {
   "cell_type": "code",
   "execution_count": null,
   "metadata": {},
   "outputs": [],
   "source": []
  }
 ],
 "metadata": {
  "kernelspec": {
   "display_name": "Java",
   "language": "java",
   "name": "java"
  },
  "language_info": {
   "codemirror_mode": "java",
   "file_extension": ".jshell",
   "mimetype": "text/x-java-source",
   "name": "java",
   "pygments_lexer": "java",
   "version": "21.0.2+13-LTS-58"
  }
 },
 "nbformat": 4,
 "nbformat_minor": 2
}
