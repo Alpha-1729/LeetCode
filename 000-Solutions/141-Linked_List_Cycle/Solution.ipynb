{
 "cells": [
  {
   "cell_type": "code",
   "execution_count": null,
   "metadata": {},
   "outputs": [],
   "source": [
    "// Linked List Cycle\n",
    "\n",
    "/*\n",
    ">>>>\n",
    ">>>>\n",
    ">>>>\n",
    ">>>>\n",
    "*/\n"
   ]
  },
  {
   "cell_type": "markdown",
   "metadata": {},
   "source": [
    "# Approach.\n"
   ]
  },
  {
   "cell_type": "code",
   "execution_count": null,
   "metadata": {},
   "outputs": [],
   "source": [
    "/**\n",
    " * Definition for singly-linked list.\n",
    " * class ListNode {\n",
    " * int val;\n",
    " * ListNode next;\n",
    " * ListNode(int x) {\n",
    " * val = x;\n",
    " * next = null;\n",
    " * }\n",
    " * }\n",
    " */\n",
    "public class Solution {\n",
    "\n",
    "  public boolean hasCycle(ListNode head) {\n",
    "    ListNode slowPtr = head;\n",
    "    ListNode fastPtr = head;\n",
    "    while (fastPtr != null && fastPtr.next != null) {\n",
    "      fastPtr = fastPtr.next.next;\n",
    "      slowPtr = slowPtr.next;\n",
    "      if (slowPtr == fastPtr) {\n",
    "        return true;\n",
    "      }\n",
    "    }\n",
    "    return false;\n",
    "  }\n",
    "}\n"
   ]
  },
  {
   "cell_type": "code",
   "execution_count": null,
   "metadata": {},
   "outputs": [],
   "source": [
    "Solution s = new Solution();\n",
    "s.fib(30);"
   ]
  }
 ],
 "metadata": {
  "kernelspec": {
   "display_name": "Java",
   "language": "java",
   "name": "java"
  },
  "language_info": {
   "codemirror_mode": "java",
   "file_extension": ".jshell",
   "mimetype": "text/x-java-source",
   "name": "java",
   "pygments_lexer": "java",
   "version": "21.0.2+13-LTS-58"
  }
 },
 "nbformat": 4,
 "nbformat_minor": 2
}
