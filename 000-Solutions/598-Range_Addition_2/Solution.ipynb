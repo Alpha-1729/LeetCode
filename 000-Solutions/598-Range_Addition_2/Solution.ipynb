{
 "cells": [
  {
   "cell_type": "code",
   "execution_count": null,
   "metadata": {
    "vscode": {
     "languageId": "java"
    }
   },
   "outputs": [],
   "source": [
    "// Range Addition 2\n",
    "\n",
    "/*\n",
    ">>>>\n",
    ">>>>\n",
    ">>>>\n",
    ">>>>\n",
    "*/\n"
   ]
  },
  {
   "cell_type": "markdown",
   "metadata": {},
   "source": [
    "# Approach.\n",
    "- Loop through the ops array.\n",
    "- Find the minimum values in the 0th and 1st index.\n",
    "- Return the product of the min value in the 0th and 1st index."
   ]
  },
  {
   "cell_type": "code",
   "execution_count": 1,
   "metadata": {
    "vscode": {
     "languageId": "java"
    }
   },
   "outputs": [],
   "source": [
    "class Solution {\n",
    "\n",
    "  public int maxCount(int m, int n, int[][] ops) {\n",
    "    if (ops.length == 0) return m * n;\n",
    "    for (int i = 0; i < ops.length; i++) {\n",
    "      if (ops[i][0] < ops[0][0]) {\n",
    "        ops[0][0] = ops[i][0];\n",
    "      }\n",
    "      if (ops[i][1] < ops[0][1]) {\n",
    "        ops[0][1] = ops[i][1];\n",
    "      }\n",
    "    }\n",
    "    return ops[0][0] * ops[0][1];\n",
    "  }\n",
    "}\n"
   ]
  }
 ],
 "metadata": {
  "kernelspec": {
   "display_name": "Java",
   "language": "java",
   "name": "java"
  },
  "language_info": {
   "codemirror_mode": "java",
   "file_extension": ".jshell",
   "mimetype": "text/x-java-source",
   "name": "Java",
   "pygments_lexer": "java",
   "version": "21.0.2+13-LTS-58"
  }
 },
 "nbformat": 4,
 "nbformat_minor": 2
}
