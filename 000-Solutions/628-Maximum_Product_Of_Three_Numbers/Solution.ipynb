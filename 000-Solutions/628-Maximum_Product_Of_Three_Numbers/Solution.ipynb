{
 "cells": [
  {
   "cell_type": "code",
   "execution_count": null,
   "metadata": {},
   "outputs": [],
   "source": [
    "// Maximum Product Of Three Numbers\n",
    "\n",
    "/*\n",
    ">>>>\n",
    ">>>>\n",
    ">>>>\n",
    ">>>>\n",
    "*/\n"
   ]
  },
  {
   "cell_type": "markdown",
   "metadata": {},
   "source": [
    "# Approach.\n",
    "- Solution will be the maximum of the (min1 * min1 * max),  (max1 * max2 * max)"
   ]
  },
  {
   "cell_type": "code",
   "execution_count": null,
   "metadata": {},
   "outputs": [],
   "source": [
    "// Best Solution.\n",
    "class Solution {\n",
    "\n",
    "  public int maximumProduct(int[] nums) {\n",
    "    int max1 = Integer.MIN_VALUE;\n",
    "    int max2 = Integer.MIN_VALUE;\n",
    "    int max3 = Integer.MIN_VALUE;\n",
    "    int min1 = Integer.MAX_VALUE;\n",
    "    int min2 = Integer.MAX_VALUE;\n",
    "\n",
    "    for (int num : nums) {\n",
    "      if (num > max3) {\n",
    "        max3 = num;\n",
    "\n",
    "        if (num > max2) {\n",
    "          max3 = max2;\n",
    "          max2 = num;\n",
    "\n",
    "          if (num > max1) {\n",
    "            max2 = max1;\n",
    "            max1 = num;\n",
    "          }\n",
    "        }\n",
    "      }\n",
    "\n",
    "      if (num < min2) {\n",
    "        min2 = num;\n",
    "        if (num < min1) {\n",
    "          min2 = min1;\n",
    "          min1 = num;\n",
    "        }\n",
    "      }\n",
    "    }\n",
    "    return Math.max(min1 * min2 * max1, max1 * max2 * max3);\n",
    "  }\n",
    "}\n"
   ]
  },
  {
   "cell_type": "code",
   "execution_count": 2,
   "metadata": {},
   "outputs": [],
   "source": [
    "class Solution {\n",
    "\n",
    "  public int maximumProduct(int[] nums) {\n",
    "    int temp = 0;\n",
    "    int maxProd = 0, minProd = 0;\n",
    "    for (int i = 0; i < 3; i++) {\n",
    "      for (int j = 0; j < nums.length - 1; j++) {\n",
    "        if (nums[j] > nums[j + 1]) {\n",
    "          temp = nums[j];\n",
    "          nums[j] = nums[j + 1];\n",
    "          nums[j + 1] = temp;\n",
    "        }\n",
    "      }\n",
    "    }\n",
    "\n",
    "    for (int i = 0; i < 2; i++) {\n",
    "      for (int j = nums.length - 1; j > 0; j--) {\n",
    "        if (nums[j] < nums[j - 1]) {\n",
    "          temp = nums[j];\n",
    "          nums[j] = nums[j - 1];\n",
    "          nums[j - 1] = temp;\n",
    "        }\n",
    "      }\n",
    "    }\n",
    "\n",
    "    temp = nums.length - 1;\n",
    "    maxProd = nums[temp] * nums[temp - 1] * nums[temp - 2];\n",
    "    minProd = nums[0] * nums[1] * nums[temp];\n",
    "    return Math.max(maxProd, minProd);\n",
    "  }\n",
    "}\n"
   ]
  },
  {
   "cell_type": "code",
   "execution_count": 7,
   "metadata": {},
   "outputs": [
    {
     "name": "stdout",
     "output_type": "stream",
     "text": [
      "0\n"
     ]
    },
    {
     "data": {
      "text/plain": [
       "8"
      ]
     },
     "execution_count": 7,
     "metadata": {},
     "output_type": "execute_result"
    }
   ],
   "source": [
    "Solution s = new Solution();\n",
    "s.maximumProduct(new int[]{-100,-200,-300, 1,2,4});"
   ]
  }
 ],
 "metadata": {
  "kernelspec": {
   "display_name": "Java",
   "language": "java",
   "name": "java"
  },
  "language_info": {
   "codemirror_mode": "java",
   "file_extension": ".jshell",
   "mimetype": "text/x-java-source",
   "name": "java",
   "pygments_lexer": "java",
   "version": "21.0.2+13-LTS-58"
  }
 },
 "nbformat": 4,
 "nbformat_minor": 2
}
