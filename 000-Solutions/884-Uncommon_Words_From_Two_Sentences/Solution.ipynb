{
 "cells": [
  {
   "cell_type": "code",
   "execution_count": null,
   "metadata": {
    "vscode": {
     "languageId": "java"
    }
   },
   "outputs": [],
   "source": [
    "// Uncommon Words From Two Sentences\n",
    "\n",
    "/*\n",
    ">>>>\n",
    ">>>>\n",
    ">>>>\n",
    ">>>>\n",
    "*/\n"
   ]
  },
  {
   "cell_type": "markdown",
   "metadata": {},
   "source": [
    "# Approach.\n",
    "- Add all the words in a HashMap and track the count of each word.\n",
    "- Return all the words with count = 1;\n"
   ]
  },
  {
   "cell_type": "code",
   "execution_count": 26,
   "metadata": {
    "vscode": {
     "languageId": "java"
    }
   },
   "outputs": [],
   "source": [
    "class Solution {\n",
    "\n",
    "  public String[] uncommonFromSentences(String s1, String s2) {\n",
    "    Map<String, Integer> map = new HashMap<>();\n",
    "    for (String s : s1.split(\" \")) {\n",
    "      int count = map.getOrDefault(s, 0);\n",
    "      map.put(s, count + 1);\n",
    "    }\n",
    "\n",
    "    for (String s : s2.split(\" \")) {\n",
    "      int count = map.getOrDefault(s, 0);\n",
    "      map.put(s, count + 1);\n",
    "    }\n",
    "\n",
    "    List<String> result = new ArrayList<>();\n",
    "\n",
    "    for (String s : map.keySet()) {\n",
    "      if (map.get(s) == 1) result.add(s);\n",
    "    }\n",
    "    return result.toArray(new String[0]);\n",
    "  }\n",
    "}\n"
   ]
  },
  {
   "cell_type": "code",
   "execution_count": 27,
   "metadata": {
    "vscode": {
     "languageId": "java"
    }
   },
   "outputs": [
    {
     "data": {
      "text/plain": [
       "[Ljava.lang.String;@ff0674f"
      ]
     },
     "execution_count": 27,
     "metadata": {},
     "output_type": "execute_result"
    }
   ],
   "source": [
    "Solution s = new Solution();\n",
    "String s1 = \"this apple is sweet\";\n",
    "String s2 = \"this apple is sour\";\n",
    "s.uncommonFromSentences(s1, s2);"
   ]
  },
  {
   "cell_type": "code",
   "execution_count": null,
   "metadata": {
    "vscode": {
     "languageId": "java"
    }
   },
   "outputs": [],
   "source": []
  }
 ],
 "metadata": {
  "kernelspec": {
   "display_name": "Java",
   "language": "java",
   "name": "java"
  },
  "language_info": {
   "codemirror_mode": "java",
   "file_extension": ".jshell",
   "mimetype": "text/x-java-source",
   "name": "Java",
   "pygments_lexer": "java",
   "version": "21.0.2+13-LTS-58"
  }
 },
 "nbformat": 4,
 "nbformat_minor": 2
}
