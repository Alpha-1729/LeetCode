{
 "cells": [
  {
   "cell_type": "code",
   "execution_count": null,
   "metadata": {
    "vscode": {
     "languageId": "java"
    }
   },
   "outputs": [],
   "source": [
    "// Excel Sheet Column Number\n",
    "\n",
    "/*\n",
    ">>>>\n",
    ">>>>\n",
    ">>>>\n",
    ">>>>\n",
    "*/\n"
   ]
  },
  {
   "cell_type": "markdown",
   "metadata": {},
   "source": [
    "# Approach.\n",
    "- Pattern is like this.\n",
    "-    A            Z                 Y\n",
    "- 26^2 + 1  +  26^1 + 26   +   26^0 + 25"
   ]
  },
  {
   "cell_type": "code",
   "execution_count": 38,
   "metadata": {
    "vscode": {
     "languageId": "java"
    }
   },
   "outputs": [],
   "source": [
    "class Solution {\n",
    "\n",
    "  public int titleToNumber(String columnTitle) {\n",
    "    int n = columnTitle.length() - 1;\n",
    "    int sum = 0;\n",
    "    for (char c : columnTitle.toCharArray()) {\n",
    "      sum += Math.pow(26, n) * (c - 'A' + 1);\n",
    "      n--;\n",
    "    }\n",
    "\n",
    "    return sum;\n",
    "  }\n",
    "}\n"
   ]
  },
  {
   "cell_type": "code",
   "execution_count": 39,
   "metadata": {
    "vscode": {
     "languageId": "java"
    }
   },
   "outputs": [
    {
     "data": {
      "text/plain": [
       "1377"
      ]
     },
     "execution_count": 39,
     "metadata": {},
     "output_type": "execute_result"
    }
   ],
   "source": [
    "// Best Solution\n",
    "class Solution {\n",
    "\n",
    "  public int titleToNumber(String columnTitle) {\n",
    "    int ans = 0, n = columnTitle.length() - 1;\n",
    "    int prod = 1;\n",
    "    for (int i = n; i >= 0; i--) {\n",
    "      ans += prod * (columnTitle.charAt(i) - 'A' + 1);\n",
    "      prod *= 26;\n",
    "    }\n",
    "    return ans;\n",
    "  }\n",
    "}\n"
   ]
  },
  {
   "cell_type": "code",
   "execution_count": 32,
   "metadata": {
    "vscode": {
     "languageId": "java"
    }
   },
   "outputs": [
    {
     "data": {
      "text/plain": [
       "1"
      ]
     },
     "execution_count": 32,
     "metadata": {},
     "output_type": "execute_result"
    }
   ],
   "source": [
    "'A' - 'A' +1;\n",
    "// Math.pow(26, 2)"
   ]
  }
 ],
 "metadata": {
  "kernelspec": {
   "display_name": "Java",
   "language": "java",
   "name": "java"
  },
  "language_info": {
   "codemirror_mode": "java",
   "file_extension": ".jshell",
   "mimetype": "text/x-java-source",
   "name": "Java",
   "pygments_lexer": "java",
   "version": "21.0.2+13-LTS-58"
  }
 },
 "nbformat": 4,
 "nbformat_minor": 2
}
