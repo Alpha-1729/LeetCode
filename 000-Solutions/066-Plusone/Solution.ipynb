{
 "cells": [
  {
   "cell_type": "code",
   "execution_count": null,
   "metadata": {
    "vscode": {
     "languageId": "java"
    }
   },
   "outputs": [],
   "source": [
    "// Plus One\n",
    "\n",
    "/*\n",
    ">>>>\n",
    ">>>>\n",
    ">>>>\n",
    ">>>>\n",
    "*/\n"
   ]
  },
  {
   "cell_type": "markdown",
   "metadata": {},
   "source": [
    "# Approach\n",
    "- Loop through the array from end to start.\n",
    "  - If the digit is less than 9, increment the digit by 1.\n",
    "    - return the current array.\n",
    "  - If the digit is 9, Update the digit to 0\n",
    "- Create a new array with length greater than the actual array and all elements to zero.\n",
    "- Update the first element to 1.\n",
    "- return the new array."
   ]
  },
  {
   "cell_type": "code",
   "execution_count": 12,
   "metadata": {
    "vscode": {
     "languageId": "java"
    }
   },
   "outputs": [],
   "source": [
    "class Solution {\n",
    "\n",
    "  public int[] plusOne(int[] digits) {\n",
    "    for (int i = digits.length - 1; i >= 0; i--) {\n",
    "      if (digits[i] < 9) {\n",
    "        digits[i]++;\n",
    "        return digits;\n",
    "      }\n",
    "      digits[i] = 0;\n",
    "    }\n",
    "    digits = new int[digits.length + 1];\n",
    "    digits[0] = 1;\n",
    "    return digits;\n",
    "  }\n",
    "}\n"
   ]
  },
  {
   "cell_type": "code",
   "execution_count": 14,
   "metadata": {
    "vscode": {
     "languageId": "java"
    }
   },
   "outputs": [
    {
     "name": "stdout",
     "output_type": "stream",
     "text": [
      "[1, 0, 0, 0, 0, 0]\n"
     ]
    }
   ],
   "source": [
    " Solution a = new Solution();\n",
    "\n",
    " System.out.println(Arrays.toString(a.plusOne(new int[]{9,9,9,9,9})));"
   ]
  }
 ],
 "metadata": {
  "kernelspec": {
   "display_name": "Java",
   "language": "java",
   "name": "java"
  },
  "language_info": {
   "codemirror_mode": "java",
   "file_extension": ".jshell",
   "mimetype": "text/x-java-source",
   "name": "Java",
   "pygments_lexer": "java",
   "version": "21.0.2+13-LTS-58"
  }
 },
 "nbformat": 4,
 "nbformat_minor": 2
}
