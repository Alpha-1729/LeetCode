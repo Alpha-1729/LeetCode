{
 "cells": [
  {
   "cell_type": "code",
   "execution_count": null,
   "metadata": {},
   "outputs": [],
   "source": [
    "// Pascals Triangle\n",
    "\n",
    "/*\n",
    ">>>>\n",
    ">>>>\n",
    ">>>>\n",
    ">>>>\n",
    "*/\n"
   ]
  },
  {
   "cell_type": "markdown",
   "metadata": {},
   "source": [
    "# Approach.\n"
   ]
  },
  {
   "cell_type": "code",
   "execution_count": null,
   "metadata": {},
   "outputs": [],
   "source": [
    "// Best solution.\n",
    "class Solution {\n",
    "\n",
    "  public List<List<Integer>> generate(int numRows) {\n",
    "    List<List<Integer>> res = new ArrayList<>();\n",
    "    List<Integer> temp;\n",
    "    for (int i = 1; i <= numRows; i++) {\n",
    "      temp = new ArrayList<Integer>();\n",
    "      int ans = 1;\n",
    "      temp.add(ans);\n",
    "      for (int j = 1; j < i; j++) {\n",
    "        ans = ans * (i - j);\n",
    "        ans = ans / j;\n",
    "        temp.add(ans);\n",
    "      }\n",
    "      res.add(temp);\n",
    "    }\n",
    "    return res;\n",
    "  }\n",
    "}\n"
   ]
  },
  {
   "cell_type": "code",
   "execution_count": null,
   "metadata": {},
   "outputs": [],
   "source": [
    "class Solution {\n",
    "\n",
    "  public List<List<Integer>> generate(int numRows) {\n",
    "    List<List<Integer>> result = new ArrayList<>();\n",
    "\n",
    "    if (numRows == 0) {\n",
    "      return result;\n",
    "    }\n",
    "\n",
    "    result.add(List.of(1));\n",
    "\n",
    "    for (int i = 1; i < numRows; i++) {\n",
    "      List<Integer> previousRow = result.get(i - 1);\n",
    "      List<Integer> currentRow = new ArrayList<>();\n",
    "      currentRow.add(1);\n",
    "      for (int j = 1; j < i; j++) {\n",
    "        int sum = previousRow.get(j - 1) + previousRow.get(j);\n",
    "        currentRow.add(sum);\n",
    "      }\n",
    "\n",
    "      currentRow.add(1);\n",
    "      result.add(currentRow);\n",
    "    }\n",
    "\n",
    "    return result;\n",
    "  }\n",
    "}\n"
   ]
  },
  {
   "cell_type": "code",
   "execution_count": null,
   "metadata": {},
   "outputs": [],
   "source": [
    "Solution s = new Solution();\n",
    "s.fib(30);"
   ]
  }
 ],
 "metadata": {
  "kernelspec": {
   "display_name": "Java",
   "language": "java",
   "name": "java"
  },
  "language_info": {
   "codemirror_mode": "java",
   "file_extension": ".jshell",
   "mimetype": "text/x-java-source",
   "name": "java",
   "pygments_lexer": "java",
   "version": "21.0.2+13-LTS-58"
  }
 },
 "nbformat": 4,
 "nbformat_minor": 2
}
