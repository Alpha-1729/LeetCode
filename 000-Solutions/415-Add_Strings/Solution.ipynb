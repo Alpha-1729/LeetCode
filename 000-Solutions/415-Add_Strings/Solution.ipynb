{
 "cells": [
  {
   "cell_type": "code",
   "execution_count": null,
   "metadata": {
    "vscode": {
     "languageId": "java"
    }
   },
   "outputs": [],
   "source": [
    "// Add Strings\n",
    "\n",
    "/*\n",
    ">>>>\n",
    ">>>>\n",
    ">>>>\n",
    ">>>>\n",
    "*/\n"
   ]
  },
  {
   "cell_type": "markdown",
   "metadata": {
    "vscode": {
     "languageId": "java"
    }
   },
   "source": [
    "# Approach.\n",
    "- Grab the characters from the end of each string.\n",
    "- Add the numbers and store the carry in a variable.\n",
    "- Store the result in a string.\n",
    "- Continue this for other character.\n",
    "- Reverse the string to get the answer."
   ]
  },
  {
   "cell_type": "code",
   "execution_count": null,
   "metadata": {
    "vscode": {
     "languageId": "java"
    }
   },
   "outputs": [],
   "source": [
    "class Solution {\n",
    "\n",
    "  public String addStrings(String num1, String num2) {\n",
    "    StringBuilder sb = new StringBuilder();\n",
    "    int i = num1.length() - 1, j = num2.length() - 1;\n",
    "    int carry = 0;\n",
    "\n",
    "    while (i >= 0 || j >= 0) {\n",
    "      carry += i < 0 ? 0 : num1.charAt(i--) - '0';\n",
    "      carry += j < 0 ? 0 : num2.charAt(j--) - '0';\n",
    "      sb.append(carry % 10);\n",
    "      carry /= 10;\n",
    "    }\n",
    "\n",
    "    if (carry > 0) {\n",
    "      sb.append(\"1\");\n",
    "    }\n",
    "    return sb.reverse().toString();\n",
    "  }\n",
    "}\n"
   ]
  },
  {
   "cell_type": "code",
   "execution_count": null,
   "metadata": {
    "vscode": {
     "languageId": "java"
    }
   },
   "outputs": [],
   "source": []
  },
  {
   "cell_type": "code",
   "execution_count": null,
   "metadata": {
    "vscode": {
     "languageId": "java"
    }
   },
   "outputs": [],
   "source": []
  }
 ],
 "metadata": {
  "kernelspec": {
   "display_name": "Java",
   "language": "java",
   "name": "java"
  },
  "language_info": {
   "codemirror_mode": "java",
   "file_extension": ".jshell",
   "mimetype": "text/x-java-source",
   "name": "Java",
   "pygments_lexer": "java",
   "version": "21.0.2+13-LTS-58"
  }
 },
 "nbformat": 4,
 "nbformat_minor": 2
}
