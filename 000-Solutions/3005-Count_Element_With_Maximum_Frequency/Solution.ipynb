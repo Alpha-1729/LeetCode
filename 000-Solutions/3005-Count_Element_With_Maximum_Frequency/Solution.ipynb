{
 "cells": [
  {
   "cell_type": "code",
   "execution_count": null,
   "metadata": {
    "vscode": {
     "languageId": "java"
    }
   },
   "outputs": [],
   "source": [
    "// Count Element With Maximum Frequency.\n",
    "\n",
    "/*\n",
    ">>>>\n",
    ">>>>\n",
    ">>>>\n",
    ">>>>\n",
    "*/\n"
   ]
  },
  {
   "cell_type": "code",
   "execution_count": null,
   "metadata": {
    "vscode": {
     "languageId": "java"
    }
   },
   "outputs": [],
   "source": [
    "class Solution {\n",
    "\n",
    "  public int maxFrequencyElements(int[] nums) {\n",
    "    int maxFrequency = 0, maxFrequencyCount = 0;\n",
    "    Map<Integer, Integer> numFrequency = new HashMap<>();\n",
    "\n",
    "    for (int num : nums) {\n",
    "      int frequency = numFrequency.getOrDefault(num, 0) + 1;\n",
    "\n",
    "      if (frequency == maxFrequency) {\n",
    "        maxFrequencyCount++;\n",
    "      } else if (frequency > maxFrequency) {\n",
    "        maxFrequency = frequency;\n",
    "        maxFrequencyCount = 1;\n",
    "      }\n",
    "\n",
    "      numFrequency.put(num, frequency);\n",
    "    }\n",
    "    return maxFrequency * maxFrequencyCount;\n",
    "  }\n",
    "}\n"
   ]
  }
 ],
 "metadata": {
  "language_info": {
   "name": "python"
  }
 },
 "nbformat": 4,
 "nbformat_minor": 2
}
