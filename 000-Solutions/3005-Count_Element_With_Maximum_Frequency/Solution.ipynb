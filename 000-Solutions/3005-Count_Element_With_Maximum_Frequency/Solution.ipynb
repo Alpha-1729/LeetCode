{
 "cells": [
  {
   "cell_type": "code",
   "execution_count": null,
   "metadata": {},
   "outputs": [],
   "source": [
    "// Count Element With Maximum Frequency.\n",
    "\n",
    "/*\n",
    ">>>>\n",
    ">>>>\n",
    ">>>>\n",
    ">>>>\n",
    "*/\n"
   ]
  },
  {
   "cell_type": "code",
   "execution_count": 11,
   "metadata": {},
   "outputs": [],
   "source": [
    "// Best solution.\n",
    "class Solution {\n",
    "\n",
    "  public int maxFrequencyElements(int[] nums) {\n",
    "    int maxNum = -1;\n",
    "\n",
    "    for (int num : nums) {\n",
    "      if (num > maxNum) maxNum = num;\n",
    "    }\n",
    "\n",
    "    int[] arr = new int[maxNum + 1];\n",
    "\n",
    "    int maxFreq = 0, maxFreqCount = 0;\n",
    "    for (int num : nums) {\n",
    "      arr[num - 1]++;\n",
    "\n",
    "      if (arr[num - 1] > maxFreq) {\n",
    "        maxFreq = arr[num - 1];\n",
    "        maxFreqCount = maxFreq;\n",
    "      } else if (arr[num - 1] == maxFreq) {\n",
    "        maxFreqCount += maxFreq;\n",
    "      }\n",
    "    }\n",
    "\n",
    "    return maxFreqCount;\n",
    "  }\n",
    "}\n"
   ]
  },
  {
   "cell_type": "code",
   "execution_count": null,
   "metadata": {},
   "outputs": [],
   "source": [
    "class Solution {\n",
    "\n",
    "  public int maxFrequencyElements(int[] nums) {\n",
    "    int maxFrequency = 0, maxFrequencyCount = 0;\n",
    "    Map<Integer, Integer> numFrequency = new HashMap<>();\n",
    "\n",
    "    for (int num : nums) {\n",
    "      int frequency = numFrequency.getOrDefault(num, 0) + 1;\n",
    "\n",
    "      if (frequency == maxFrequency) {\n",
    "        maxFrequencyCount++;\n",
    "      } else if (frequency > maxFrequency) {\n",
    "        maxFrequency = frequency;\n",
    "        maxFrequencyCount = 1;\n",
    "      }\n",
    "\n",
    "      numFrequency.put(num, frequency);\n",
    "    }\n",
    "    return maxFrequency * maxFrequencyCount;\n",
    "  }\n",
    "}\n"
   ]
  },
  {
   "cell_type": "code",
   "execution_count": null,
   "metadata": {},
   "outputs": [
    {
     "data": {
      "text/plain": [
       "4"
      ]
     },
     "metadata": {},
     "output_type": "display_data"
    }
   ],
   "source": [
    "Solution s = new Solution();\n",
    "int[] nums = {1,2,2,3,1,4};\n",
    "s.maxFrequencyElements(nums);"
   ]
  }
 ],
 "metadata": {
  "kernelspec": {
   "display_name": "Java",
   "language": "java",
   "name": "java"
  },
  "language_info": {
   "codemirror_mode": "java",
   "file_extension": ".jshell",
   "mimetype": "text/x-java-source",
   "name": "java",
   "pygments_lexer": "java",
   "version": "21.0.2+13-LTS-58"
  }
 },
 "nbformat": 4,
 "nbformat_minor": 2
}
