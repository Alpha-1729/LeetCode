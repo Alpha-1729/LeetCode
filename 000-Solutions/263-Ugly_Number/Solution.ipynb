{
 "cells": [
  {
   "cell_type": "code",
   "execution_count": null,
   "metadata": {},
   "outputs": [],
   "source": [
    "// Ugly Number\n",
    "\n",
    "/*\n",
    ">>>>\n",
    ">>>>\n",
    ">>>>\n",
    ">>>>\n",
    "*/\n"
   ]
  },
  {
   "cell_type": "markdown",
   "metadata": {},
   "source": [
    "# Approach\n",
    "- If n is a negative number or zero, return false.\n",
    "- Any non-prime number can be written as the product of the prime numbers.\n",
    "  - 12 = 2*2*3\n",
    "  - 15 = 3*5\n",
    "  - 27 = 3*3*3\n",
    "- If we divide the number n continuously by the prime numbers 2, 3 and 5.\n",
    "- We can check other prime numbers exist or not.\n",
    "- If n == 1, no prime numbers exist.\n",
    "- Else prime number exists."
   ]
  },
  {
   "cell_type": "code",
   "execution_count": null,
   "metadata": {},
   "outputs": [],
   "source": [
    "class Solution {\n",
    "\n",
    "  public boolean isUgly(int n) {\n",
    "    if (n == 0) return false;\n",
    "\n",
    "    while (n % 2 == 0) {\n",
    "      n /= 2;\n",
    "    }\n",
    "    while (n % 3 == 0) {\n",
    "      n /= 3;\n",
    "    }\n",
    "    while (n % 5 == 0) {\n",
    "      n /= 5;\n",
    "    }\n",
    "\n",
    "    return n == 1;\n",
    "  }\n",
    "}\n"
   ]
  },
  {
   "cell_type": "code",
   "execution_count": null,
   "metadata": {},
   "outputs": [],
   "source": []
  }
 ],
 "metadata": {
  "kernelspec": {
   "display_name": "Java",
   "language": "java",
   "name": "java"
  },
  "language_info": {
   "codemirror_mode": "java",
   "file_extension": ".jshell",
   "mimetype": "text/x-java-source",
   "name": "java",
   "pygments_lexer": "java",
   "version": "21.0.2+13-LTS-58"
  }
 },
 "nbformat": 4,
 "nbformat_minor": 2
}
