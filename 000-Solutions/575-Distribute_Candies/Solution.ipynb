{
 "cells": [
  {
   "cell_type": "code",
   "execution_count": null,
   "metadata": {
    "vscode": {
     "languageId": "java"
    }
   },
   "outputs": [],
   "source": [
    "// Distribute Candies\n",
    "\n",
    "/*\n",
    ">>>>\n",
    ">>>>\n",
    ">>>>\n",
    ">>>>\n",
    "*/\n"
   ]
  },
  {
   "cell_type": "markdown",
   "metadata": {},
   "source": [
    "# Approach 1\n",
    "- Create a HashSet.\n",
    "- Store the distinct candy.\n",
    "- Keep a variable to store the count of the distinct candy.\n",
    "- Return the count of distinct candy.\n",
    "\n",
    "# Approach 2\n",
    "- Create and boolean array with 2 times the max possible value in the array.\n",
    "- Since the array also contain negative numbers. Add a temp variable to make it a positive number.\n",
    "- Keep a variable to count the distinct candy.\n",
    "- Check the value in the array. If it is not true, Increment the count of distinct candy variable.\n",
    "- Return the count of distinct candy."
   ]
  },
  {
   "cell_type": "code",
   "execution_count": 3,
   "metadata": {
    "vscode": {
     "languageId": "java"
    }
   },
   "outputs": [],
   "source": [
    "class Solution {\n",
    "\n",
    "  public int distributeCandies(int[] candyType) {\n",
    "    int candyCount = 0;\n",
    "    int half = candyType.length / 2;\n",
    "    Set<Integer> candySet = new HashSet<>();\n",
    "\n",
    "    for (int candy : candyType) {\n",
    "      if (!candySet.contains(candy)) {\n",
    "        candySet.add(candy);\n",
    "        candyCount++;\n",
    "      }\n",
    "      if (candyCount == half) return half;\n",
    "    }\n",
    "    return candySet.size();\n",
    "  }\n",
    "}\n"
   ]
  },
  {
   "cell_type": "code",
   "execution_count": 7,
   "metadata": {
    "vscode": {
     "languageId": "java"
    }
   },
   "outputs": [],
   "source": [
    "// Best solution.\n",
    "class Solution {\n",
    "\n",
    "  public int distributeCandies(int[] candyType) {\n",
    "    int candyCount = 0;\n",
    "    int half = candyType.length / 2;\n",
    "    boolean[] types = new boolean[200001];\n",
    "    for (int candy : candyType) {\n",
    "      candy += 100000;\n",
    "      if (!types[candy]) {\n",
    "        if (++candyCount == half) return candyCount;\n",
    "        types[candy] = true;\n",
    "      }\n",
    "    }\n",
    "    return candyCount;\n",
    "  }\n",
    "}\n"
   ]
  },
  {
   "cell_type": "code",
   "execution_count": 8,
   "metadata": {
    "vscode": {
     "languageId": "java"
    }
   },
   "outputs": [
    {
     "data": {
      "text/plain": [
       "1"
      ]
     },
     "execution_count": 8,
     "metadata": {},
     "output_type": "execute_result"
    }
   ],
   "source": [
    "Solution s = new Solution();\n",
    "int[] candyType = new int[] {6,6,6,6};\n",
    "s.distributeCandies(candyType);"
   ]
  }
 ],
 "metadata": {
  "kernelspec": {
   "display_name": "Java",
   "language": "java",
   "name": "java"
  },
  "language_info": {
   "codemirror_mode": "java",
   "file_extension": ".jshell",
   "mimetype": "text/x-java-source",
   "name": "Java",
   "pygments_lexer": "java",
   "version": "21.0.2+13-LTS-58"
  }
 },
 "nbformat": 4,
 "nbformat_minor": 2
}
