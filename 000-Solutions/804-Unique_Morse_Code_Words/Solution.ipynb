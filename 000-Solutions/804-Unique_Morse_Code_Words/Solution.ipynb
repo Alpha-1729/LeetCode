{
 "cells": [
  {
   "cell_type": "code",
   "execution_count": null,
   "metadata": {
    "vscode": {
     "languageId": "java"
    }
   },
   "outputs": [],
   "source": [
    "// Unique Morse Code Words\n",
    "\n",
    "/*\n",
    ">>>>\n",
    ">>>>\n",
    ">>>>\n",
    ">>>>\n",
    "*/\n"
   ]
  },
  {
   "cell_type": "markdown",
   "metadata": {},
   "source": [
    "# Approach.\n",
    "- Same as mentioned in question."
   ]
  },
  {
   "cell_type": "code",
   "execution_count": null,
   "metadata": {
    "vscode": {
     "languageId": "java"
    }
   },
   "outputs": [],
   "source": []
  },
  {
   "cell_type": "code",
   "execution_count": 3,
   "metadata": {
    "vscode": {
     "languageId": "java"
    }
   },
   "outputs": [
    {
     "data": {
      "text/plain": [
       "2"
      ]
     },
     "execution_count": 3,
     "metadata": {},
     "output_type": "execute_result"
    }
   ],
   "source": [
    "Solution s = new Solution();\n",
    "String[] words = {\"gin\",\"zen\",\"gig\",\"msg\"};\n",
    "s.uniqueMorseRepresentations(words);"
   ]
  },
  {
   "cell_type": "code",
   "execution_count": 2,
   "metadata": {
    "vscode": {
     "languageId": "java"
    }
   },
   "outputs": [],
   "source": [
    "class Solution {\n",
    "\n",
    "    public int uniqueMorseRepresentations(String[] words) {\n",
    "        String[] table = {\".-\",\"-...\",\"-.-.\",\"-..\",\".\",\"..-.\",\"--.\",\"....\",\"..\",\".---\",\"-.-\",\".-..\",\"--\",\n",
    "        \"-.\",\"---\",\".--.\",\"--.-\",\".-.\",\"...\",\"-\",\"..-\",\"...-\",\".--\",\"-..-\",\"-.--\",\"--..\"};\n",
    "      Set<String> set = new HashSet<>();\n",
    "      for (String code : words) {\n",
    "        set.add(processCode(code, table));\n",
    "      }\n",
    "      return set.size();\n",
    "    }\n",
    "  \n",
    "    public String processCode(String code, String table) {\n",
    "        StringBuilder sb = new StringBuilder();\n",
    "        for(char c: code.toCharArray())\n",
    "        {\n",
    "            sb.append(table[c - 'a']);\n",
    "        }\n",
    "  \n",
    "      return sb.toString();\n",
    "    }\n",
    "  }\n",
    "  "
   ]
  }
 ],
 "metadata": {
  "kernelspec": {
   "display_name": "Java",
   "language": "java",
   "name": "java"
  },
  "language_info": {
   "codemirror_mode": "java",
   "file_extension": ".jshell",
   "mimetype": "text/x-java-source",
   "name": "Java",
   "pygments_lexer": "java",
   "version": "21.0.2+13-LTS-58"
  }
 },
 "nbformat": 4,
 "nbformat_minor": 2
}
