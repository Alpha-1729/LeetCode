{
 "cells": [
  {
   "cell_type": "code",
   "execution_count": 4,
   "metadata": {},
   "outputs": [],
   "source": [
    "// Contains Duplicate 2\n",
    "\n",
    "/*\n",
    ">>>> Best solution.\n",
    "        Reference Link: https://www.youtube.com/watch?v=nnKtyE0AvF8\n",
    ">>>>\n",
    ">>>>\n",
    ">>>>\n",
    "*/\n"
   ]
  },
  {
   "cell_type": "code",
   "execution_count": 3,
   "metadata": {},
   "outputs": [],
   "source": [
    "class Solution {\n",
    "\n",
    "  public boolean containsNearbyDuplicate(int[] nums, int k) {\n",
    "    Map<Integer, Integer> numMap = new HashMap<>();\n",
    "\n",
    "    for (int i = 0; i < nums.length; i++) {\n",
    "      int num = nums[i];\n",
    "      if (numMap.containsKey(num)) {\n",
    "        if (Math.abs(numMap.get(num) - i) <= k) {\n",
    "          return true;\n",
    "        }\n",
    "      }\n",
    "      numMap.put(num, i);\n",
    "    }\n",
    "\n",
    "    return false;\n",
    "  }\n",
    "}\n"
   ]
  },
  {
   "cell_type": "code",
   "execution_count": null,
   "metadata": {},
   "outputs": [],
   "source": [
    "// Best solution using sliding window.\n",
    "class Solution {\n",
    "\n",
    "  public boolean containsNearbyDuplicate(int[] nums, int k) {\n",
    "    HashSet<Integer> window = new HashSet<>();\n",
    "\n",
    "    for (int i = 0; i < nums.length; i++) {\n",
    "      if (i > k) {\n",
    "        window.remove(nums[i - k - 1]);\n",
    "      }\n",
    "      if (window.contains(nums[i])) {\n",
    "        return true;\n",
    "      }\n",
    "      window.add(nums[i]);\n",
    "    }\n",
    "    return false;\n",
    "  }\n",
    "}\n"
   ]
  }
 ],
 "metadata": {
  "kernelspec": {
   "display_name": "Java",
   "language": "java",
   "name": "java"
  },
  "language_info": {
   "codemirror_mode": "java",
   "file_extension": ".jshell",
   "mimetype": "text/x-java-source",
   "name": "java",
   "pygments_lexer": "java",
   "version": "21.0.2+13-LTS-58"
  }
 },
 "nbformat": 4,
 "nbformat_minor": 2
}
