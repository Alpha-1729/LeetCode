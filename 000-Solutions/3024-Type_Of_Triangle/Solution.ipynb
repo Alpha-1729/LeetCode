{
 "cells": [
  {
   "cell_type": "code",
   "execution_count": null,
   "metadata": {},
   "outputs": [],
   "source": [
    "// Type Of Triangle\n",
    "\n",
    "/*\n",
    ">>>>\n",
    ">>>>\n",
    ">>>>\n",
    ">>>>\n",
    "*/\n"
   ]
  },
  {
   "cell_type": "markdown",
   "metadata": {},
   "source": [
    "# Approach.\n",
    "- Same as in question.\n"
   ]
  },
  {
   "cell_type": "code",
   "execution_count": null,
   "metadata": {},
   "outputs": [],
   "source": [
    "class Solution {\n",
    "\n",
    "  public String triangleType(int[] nums) {\n",
    "    int s1 = nums[0];\n",
    "    int s2 = nums[1];\n",
    "    int s3 = nums[2];\n",
    "    if (!isTriangle(s1, s2, s3)) return \"none\";\n",
    "    if (s1 == s2 && s2 == s3) {\n",
    "      return \"equilateral\";\n",
    "    } else if (s1 != s2 && s2 != s3 && s1 != s3) {\n",
    "      return \"scalene\";\n",
    "    } else {\n",
    "      return \"isosceles\";\n",
    "    }\n",
    "  }\n",
    "\n",
    "  public boolean isTriangle(int s1, int s2, int s3) {\n",
    "    if (\n",
    "      ((s1 + s2) <= s3) || ((s1 + s3) <= s2) || ((s2 + s3) <= s1)\n",
    "    ) return false;\n",
    "    return true;\n",
    "  }\n",
    "}\n"
   ]
  },
  {
   "cell_type": "code",
   "execution_count": null,
   "metadata": {},
   "outputs": [],
   "source": [
    "Solution s = new Solution();\n",
    "s.fib(30);"
   ]
  }
 ],
 "metadata": {
  "kernelspec": {
   "display_name": "Java",
   "language": "java",
   "name": "java"
  },
  "language_info": {
   "codemirror_mode": "java",
   "file_extension": ".jshell",
   "mimetype": "text/x-java-source",
   "name": "java",
   "pygments_lexer": "java",
   "version": "21.0.2+13-LTS-58"
  }
 },
 "nbformat": 4,
 "nbformat_minor": 2
}
