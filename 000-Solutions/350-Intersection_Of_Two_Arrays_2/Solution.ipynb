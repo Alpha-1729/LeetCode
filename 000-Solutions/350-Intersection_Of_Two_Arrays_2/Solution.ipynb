{
 "cells": [
  {
   "cell_type": "code",
   "execution_count": null,
   "metadata": {},
   "outputs": [],
   "source": [
    "// Intersection Of Two Arrays 2\n",
    "\n",
    "/*\n",
    ">>>>\n",
    ">>>>\n",
    ">>>>\n",
    ">>>>\n",
    "*/\n"
   ]
  },
  {
   "cell_type": "markdown",
   "metadata": {},
   "source": [
    "# Approach.\n",
    "- Create an array to store the intersection of the number.\n",
    "- Initially all the elements in the array will be zero.\n",
    "- Loop through the nums1 and increment the value in the temp array;\n",
    "- Loop through the nums2 and if corresponding values in the temp array is >= 1 then common elements is found.\n",
    "- Decrement the value in the temp array.\n",
    "- Add the common element to the start of the nums1, to avoid creating new array.\n",
    "- Add a counter variable to store the distinct element.\n",
    "- Slice the nums1 array till counter."
   ]
  },
  {
   "cell_type": "code",
   "execution_count": null,
   "metadata": {},
   "outputs": [],
   "source": [
    "class Solution {\n",
    "\n",
    "    public int[] intersect(int[] nums1, int[] nums2) {\n",
    "        int[] temp = new int[1001];\n",
    "\n",
    "        for (int i : nums1) {\n",
    "            temp[i]++;\n",
    "        }\n",
    "\n",
    "        int count = 0;\n",
    "        for (int i : nums2) {\n",
    "            if (temp[i] >= 1) {\n",
    "                nums1[count++] = i;\n",
    "                temp[i]--;\n",
    "            }\n",
    "        }\n",
    "        return getSlicedArray(nums1, count);\n",
    "    }\n",
    "\n",
    "    public int[] getSlicedArray(int[] arr, int index) {\n",
    "        int[] result = new int[index];\n",
    "        for (int i = 0; i < index; i++) {\n",
    "            result[i] = arr[i];\n",
    "        }\n",
    "        return result;\n",
    "    }\n",
    "}\n"
   ]
  },
  {
   "cell_type": "code",
   "execution_count": null,
   "metadata": {},
   "outputs": [],
   "source": [
    "Solution s = new Solution();\n",
    "s.fib(30);"
   ]
  }
 ],
 "metadata": {
  "kernelspec": {
   "display_name": "Java",
   "language": "java",
   "name": "java"
  },
  "language_info": {
   "codemirror_mode": "java",
   "file_extension": ".jshell",
   "mimetype": "text/x-java-source",
   "name": "java",
   "pygments_lexer": "java",
   "version": "21.0.2+13-LTS-58"
  }
 },
 "nbformat": 4,
 "nbformat_minor": 2
}
