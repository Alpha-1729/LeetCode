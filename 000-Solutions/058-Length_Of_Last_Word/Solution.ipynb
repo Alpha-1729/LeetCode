{
 "cells": [
  {
   "cell_type": "code",
   "execution_count": null,
   "metadata": {},
   "outputs": [],
   "source": [
    "// Length Of Last Word\n",
    "\n",
    "/*\n",
    ">>>>\n",
    ">>>>\n",
    ">>>>\n",
    ">>>>\n",
    "*/\n"
   ]
  },
  {
   "cell_type": "markdown",
   "metadata": {},
   "source": [
    "# Approach.\n",
    "- Same as in question.\n"
   ]
  },
  {
   "cell_type": "code",
   "execution_count": 2,
   "metadata": {},
   "outputs": [],
   "source": [
    "class Solution {\n",
    "\n",
    "    public int lengthOfLastWord(String s) {\n",
    "      int n = s.length() - 1;\n",
    "      int length = 0;\n",
    "      while (n >= 0) {\n",
    "        if (s.charAt(n) == ' ') {\n",
    "          if (length > 0) \n",
    "          break;\n",
    "        }\n",
    "        else {\n",
    "        length++;}\n",
    "        n--;\n",
    "      }\n",
    "      return length;\n",
    "    }\n",
    "  }\n",
    "  "
   ]
  },
  {
   "cell_type": "code",
   "execution_count": null,
   "metadata": {},
   "outputs": [],
   "source": [
    "// Best solution.\n",
    "class Solution {\n",
    "\n",
    "  public int lengthOfLastWord(String s) {\n",
    "    int count = 0;\n",
    "\n",
    "    for (int i = s.length() - 1; i >= 0; i--) {\n",
    "      if (s.charAt(i) == ' ') {\n",
    "        if (count > 0) break;\n",
    "      } else {\n",
    "        count++;\n",
    "      }\n",
    "    }\n",
    "    return count;\n",
    "  }\n",
    "}\n"
   ]
  },
  {
   "cell_type": "code",
   "execution_count": null,
   "metadata": {},
   "outputs": [],
   "source": [
    "Solution s = new Solution();\n",
    "s.lengthOfLastWord(30);"
   ]
  }
 ],
 "metadata": {
  "kernelspec": {
   "display_name": "Java",
   "language": "java",
   "name": "java"
  },
  "language_info": {
   "codemirror_mode": "java",
   "file_extension": ".jshell",
   "mimetype": "text/x-java-source",
   "name": "java",
   "pygments_lexer": "java",
   "version": "21.0.2+13-LTS-58"
  }
 },
 "nbformat": 4,
 "nbformat_minor": 2
}
