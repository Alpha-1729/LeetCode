{
 "cells": [
  {
   "cell_type": "code",
   "execution_count": null,
   "metadata": {},
   "outputs": [],
   "source": [
    "// Find All Numbers Disappeared In An Array\n",
    "\n",
    "/*\n",
    ">>>>\n",
    ">>>>\n",
    ">>>>\n",
    ">>>>\n",
    "*/\n"
   ]
  },
  {
   "cell_type": "code",
   "execution_count": 15,
   "metadata": {},
   "outputs": [],
   "source": [
    "class Solution {\n",
    "\n",
    "    public List<Integer> findDisappearedNumbers(int[] nums) {\n",
    "      int index;\n",
    "      List<Integer> list = new ArrayList<>();\n",
    "      for (int i : nums) {\n",
    "        index = Math.abs(i) - 1;\n",
    "        if (nums[index] > 0) {\n",
    "          nums[index] *= -1;\n",
    "        }\n",
    "      }\n",
    "      for (int i = 0; i < nums.length; i++) {\n",
    "        if (nums[i] > 0) {\n",
    "          list.add(i + 1);\n",
    "        }\n",
    "      }\n",
    "      return list;\n",
    "    }\n",
    "  }\n",
    "  "
   ]
  },
  {
   "cell_type": "code",
   "execution_count": 17,
   "metadata": {},
   "outputs": [
    {
     "name": "stdout",
     "output_type": "stream",
     "text": [
      "[-1, 1]\n"
     ]
    },
    {
     "data": {
      "text/plain": [
       "[]"
      ]
     },
     "execution_count": 17,
     "metadata": {},
     "output_type": "execute_result"
    }
   ],
   "source": [
    "Solution s = new Solution();\n",
    "s.findDisappearedNumbers(new int[]{1,1});\n",
    "\n",
    "// [-4,-3,-2,-7,8,2,-3,-1] 5, 6\n",
    "// [0,1,2,3,4,5,6,7]\n",
    "\n",
    "// [-1,]\n",
    "// [0,1]"
   ]
  }
 ],
 "metadata": {
  "kernelspec": {
   "display_name": "Java",
   "language": "java",
   "name": "java"
  },
  "language_info": {
   "codemirror_mode": "java",
   "file_extension": ".jshell",
   "mimetype": "text/x-java-source",
   "name": "java",
   "pygments_lexer": "java",
   "version": "21.0.2+13-LTS-58"
  }
 },
 "nbformat": 4,
 "nbformat_minor": 2
}
