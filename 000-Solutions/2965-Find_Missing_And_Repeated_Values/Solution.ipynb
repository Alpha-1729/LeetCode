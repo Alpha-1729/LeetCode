{
 "cells": [
  {
   "cell_type": "code",
   "execution_count": null,
   "metadata": {
    "vscode": {
     "languageId": "java"
    }
   },
   "outputs": [],
   "source": [
    "// Find Missing And Repeated Values\n",
    "\n",
    "/*\n",
    ">>>>\n",
    ">>>>\n",
    ">>>>\n",
    ">>>>\n",
    "*/\n"
   ]
  },
  {
   "cell_type": "markdown",
   "metadata": {},
   "source": [
    "# Approach.\n",
    "- Create and int arr with size n*n;\n",
    "- Update value in the index of arr by 1.\n",
    "- Look through the array to get the missing and duplicate number.\n"
   ]
  },
  {
   "cell_type": "code",
   "execution_count": 50,
   "metadata": {
    "vscode": {
     "languageId": "java"
    }
   },
   "outputs": [],
   "source": [
    "class Solution {\n",
    "\n",
    "  public int[] findMissingAndRepeatedValues(int[][] grid) {\n",
    "    int n = grid.length;\n",
    "    int[] arr = new int[(n * n)];\n",
    "\n",
    "    for (int i = 0; i < n; i++) {\n",
    "      for (int j = 0; j < n; j++) {\n",
    "        arr[grid[i][j] - 1]++;\n",
    "      }\n",
    "    }\n",
    "\n",
    "    int duplicate = -1;\n",
    "    int missing = -1;\n",
    "    for (int i = 0; i < arr.length; i++) {\n",
    "      int num = arr[i];\n",
    "      if (num == 2) {\n",
    "        duplicate = i + 1;\n",
    "      }\n",
    "      if (num == 0) {\n",
    "        missing = i + 1;\n",
    "      }\n",
    "      if (duplicate > -1 && missing > -1) break;\n",
    "    }\n",
    "    return new int[] { duplicate, missing };\n",
    "  }\n",
    "}\n"
   ]
  },
  {
   "cell_type": "code",
   "execution_count": null,
   "metadata": {
    "vscode": {
     "languageId": "java"
    }
   },
   "outputs": [],
   "source": [
    "// Best Solution\n",
    "class Solution {\n",
    "\n",
    "  public int[] findMissingAndRepeatedValues(int[][] grid) {\n",
    "    int nSquare = grid.length * grid.length;\n",
    "    int sum = nSquare * (nSquare + 1) / 2;\n",
    "    boolean[] found = new boolean[nSquare + 1];\n",
    "    int repeated = 1;\n",
    "\n",
    "    for (int[] row : grid) {\n",
    "      for (int n : row) {\n",
    "        sum -= n;\n",
    "        if (found[n]) {\n",
    "          repeated = n;\n",
    "        }\n",
    "        found[n] = true;\n",
    "      }\n",
    "    }\n",
    "\n",
    "    return new int[] { repeated, sum + repeated };\n",
    "  }\n",
    "}\n"
   ]
  },
  {
   "cell_type": "code",
   "execution_count": 52,
   "metadata": {
    "vscode": {
     "languageId": "java"
    }
   },
   "outputs": [
    {
     "name": "stdout",
     "output_type": "stream",
     "text": [
      "[0, 0, 0, 0]\n",
      "[1, 2, 1, 0]\n",
      "[2, 4]\n"
     ]
    }
   ],
   "source": [
    "Solution s = new Solution();\n",
    "int[][] arr =  {{1, 3},{2, 2}};\n",
    "// int[][] arr =  {{9, 1, 7},{8, 9, 2}, {3, 4, 6}};\n",
    "System.out.println(Arrays.toString(s.findMissingAndRepeatedValues(arr)));\n"
   ]
  },
  {
   "cell_type": "code",
   "execution_count": null,
   "metadata": {
    "vscode": {
     "languageId": "java"
    }
   },
   "outputs": [],
   "source": []
  }
 ],
 "metadata": {
  "kernelspec": {
   "display_name": "Java",
   "language": "java",
   "name": "java"
  },
  "language_info": {
   "codemirror_mode": "java",
   "file_extension": ".jshell",
   "mimetype": "text/x-java-source",
   "name": "Java",
   "pygments_lexer": "java",
   "version": "21.0.2+13-LTS-58"
  }
 },
 "nbformat": 4,
 "nbformat_minor": 2
}
