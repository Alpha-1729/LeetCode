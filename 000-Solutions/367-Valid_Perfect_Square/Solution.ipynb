{
 "cells": [
  {
   "cell_type": "code",
   "execution_count": null,
   "metadata": {
    "vscode": {
     "languageId": "java"
    }
   },
   "outputs": [],
   "source": [
    "// Valid Perfect Square\n",
    "\n",
    "/*\n",
    ">>>>\n",
    ">>>>\n",
    ">>>>\n",
    ">>>>\n",
    "*/\n"
   ]
  },
  {
   "cell_type": "markdown",
   "metadata": {},
   "source": [
    "# Approach\n",
    "- Use Binary Search.\n",
    "  - Reduce the range of possible numbers for the square root of the number.\n",
    "  - Initially the range of number is from  1 - x.\n",
    "  - Take a middle number **mid** between 1 and x.\n",
    "  - Determine whether the square root exist in [0, mid] or [mid, x]\n",
    "  - Reduce this range of numbers in each iteration."
   ]
  },
  {
   "cell_type": "code",
   "execution_count": 18,
   "metadata": {
    "vscode": {
     "languageId": "java"
    }
   },
   "outputs": [],
   "source": [
    "class Solution {\n",
    "\n",
    "  public boolean isPerfectSquare(int num) {\n",
    "    if (num == 1) return true;\n",
    "    int start = 0, mid = 0, end = num;\n",
    "\n",
    "    while ((end - start) > 1) {\n",
    "      mid = (start + end) / 2;\n",
    "      if ((mid == num / mid) && (num % mid == 0)) {\n",
    "        return true;\n",
    "      } else if (mid < num / mid) {\n",
    "        start = mid;\n",
    "      } else {\n",
    "        end = mid;\n",
    "      }\n",
    "    }\n",
    "    return false;\n",
    "  }\n",
    "}\n"
   ]
  }
 ],
 "metadata": {
  "kernelspec": {
   "display_name": "Java",
   "language": "java",
   "name": "java"
  },
  "language_info": {
   "codemirror_mode": "java",
   "file_extension": ".jshell",
   "mimetype": "text/x-java-source",
   "name": "Java",
   "pygments_lexer": "java",
   "version": "21.0.2+13-LTS-58"
  }
 },
 "nbformat": 4,
 "nbformat_minor": 2
}
