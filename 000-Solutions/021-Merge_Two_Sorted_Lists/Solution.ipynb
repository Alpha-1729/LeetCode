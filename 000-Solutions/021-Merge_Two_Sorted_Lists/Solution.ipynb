{
 "cells": [
  {
   "cell_type": "code",
   "execution_count": null,
   "metadata": {},
   "outputs": [],
   "source": [
    "// Merge Two Sorted Lists\n",
    "\n",
    "/*\n",
    ">>>>\n",
    ">>>>\n",
    ">>>>\n",
    ">>>>\n",
    "*/\n"
   ]
  },
  {
   "cell_type": "markdown",
   "metadata": {},
   "source": [
    "# Approach.\n"
   ]
  },
  {
   "cell_type": "code",
   "execution_count": null,
   "metadata": {},
   "outputs": [],
   "source": [
    "/**\n",
    " * Definition for singly-linked list.\n",
    " * public class ListNode {\n",
    " * int val;\n",
    " * ListNode next;\n",
    " * ListNode() {}\n",
    " * ListNode(int val) { this.val = val; }\n",
    " * ListNode(int val, ListNode next) { this.val = val; this.next = next; }\n",
    " * }\n",
    " */\n",
    "class Solution {\n",
    "\n",
    "  public ListNode mergeTwoLists(ListNode list1, ListNode list2) {\n",
    "    ListNode dummy = new ListNode();\n",
    "    ListNode tail = dummy;\n",
    "    while (list1 != null && list2 != null) {\n",
    "      if (list1.val < list2.val) {\n",
    "        tail.next = list1;\n",
    "        list1 = list1.next;\n",
    "      } else {\n",
    "        tail.next = list2;\n",
    "        list2 = list2.next;\n",
    "      }\n",
    "      tail = tail.next;\n",
    "    }\n",
    "\n",
    "    if (list1 == null) {\n",
    "      tail.next = list2;\n",
    "    } else {\n",
    "      tail.next = list1;\n",
    "    }\n",
    "    return dummy.next;\n",
    "  }\n",
    "}\n"
   ]
  },
  {
   "cell_type": "code",
   "execution_count": null,
   "metadata": {},
   "outputs": [],
   "source": [
    "Solution s = new Solution();"
   ]
  }
 ],
 "metadata": {
  "kernelspec": {
   "display_name": "Java",
   "language": "java",
   "name": "java"
  },
  "language_info": {
   "codemirror_mode": "java",
   "file_extension": ".jshell",
   "mimetype": "text/x-java-source",
   "name": "java",
   "pygments_lexer": "java",
   "version": "21.0.2+13-LTS-58"
  }
 },
 "nbformat": 4,
 "nbformat_minor": 2
}
