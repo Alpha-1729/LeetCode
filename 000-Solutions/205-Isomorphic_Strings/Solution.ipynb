{
 "cells": [
  {
   "cell_type": "code",
   "execution_count": null,
   "metadata": {
    "vscode": {
     "languageId": "java"
    }
   },
   "outputs": [],
   "source": [
    "// Isomorphic Strings\n",
    "\n",
    "/*\n",
    ">>>>\n",
    ">>>>\n",
    ">>>>\n",
    ">>>>\n",
    "*/\n"
   ]
  },
  {
   "cell_type": "code",
   "execution_count": null,
   "metadata": {
    "vscode": {
     "languageId": "java"
    }
   },
   "outputs": [],
   "source": [
    "class Solution {\n",
    "\n",
    "  public boolean isIsomorphic(String s, String t) {\n",
    "    Map<Character, Character> charMap = new HashMap<>();\n",
    "\n",
    "    int n = s.length();\n",
    "    char charOne, charTwo;\n",
    "\n",
    "    for (int i = 0; i < n; i++) {\n",
    "      charOne = s.charAt(i);\n",
    "      charTwo = t.charAt(i);\n",
    "\n",
    "      if (!charMap.containsKey(charOne)) {\n",
    "        if (!charMap.containsValue(charTwo)) {\n",
    "          charMap.put(charOne, charTwo);\n",
    "        } else {\n",
    "          return false;\n",
    "        }\n",
    "      } else {\n",
    "        if (charMap.get(charOne) != charTwo) {\n",
    "          return false;\n",
    "        }\n",
    "      }\n",
    "    }\n",
    "\n",
    "    return true;\n",
    "  }\n",
    "}\n"
   ]
  },
  {
   "cell_type": "code",
   "execution_count": null,
   "metadata": {
    "vscode": {
     "languageId": "java"
    }
   },
   "outputs": [],
   "source": []
  },
  {
   "cell_type": "code",
   "execution_count": null,
   "metadata": {
    "vscode": {
     "languageId": "java"
    }
   },
   "outputs": [],
   "source": []
  }
 ],
 "metadata": {
  "kernelspec": {
   "display_name": "Java",
   "language": "java",
   "name": "java"
  },
  "language_info": {
   "codemirror_mode": "java",
   "file_extension": ".jshell",
   "mimetype": "text/x-java-source",
   "name": "Java",
   "pygments_lexer": "java",
   "version": "21.0.2+13-LTS-58"
  }
 },
 "nbformat": 4,
 "nbformat_minor": 2
}
