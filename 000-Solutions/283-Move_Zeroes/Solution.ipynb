{
 "cells": [
  {
   "cell_type": "code",
   "execution_count": null,
   "metadata": {
    "vscode": {
     "languageId": "java"
    }
   },
   "outputs": [],
   "source": [
    "// Move Zeroes\n",
    "\n",
    "/*\n",
    ">>>>\n",
    ">>>>\n",
    ">>>>\n",
    ">>>>\n",
    "*/\n"
   ]
  },
  {
   "cell_type": "markdown",
   "metadata": {},
   "source": [
    "# Approach.\n",
    "- Move all non-zero number to left.\n",
    "- Count the non-zero number.\n",
    "- Fill the remaining space with zeroes.\n"
   ]
  },
  {
   "cell_type": "code",
   "execution_count": null,
   "metadata": {
    "vscode": {
     "languageId": "java"
    }
   },
   "outputs": [],
   "source": [
    "// Best Solution.\n",
    "class Solution {\n",
    "\n",
    "  public void moveZeroes(int[] nums) {\n",
    "    int n = nums.length;\n",
    "    int j = 0;\n",
    "    for (int i = 0; i < n; i++) {\n",
    "      if (nums[i] != 0) {\n",
    "        nums[j++] = nums[i];\n",
    "      }\n",
    "    }\n",
    "    while (j < n) {\n",
    "      nums[j++] = 0;\n",
    "    }\n",
    "  }\n",
    "}\n"
   ]
  },
  {
   "cell_type": "code",
   "execution_count": 6,
   "metadata": {
    "vscode": {
     "languageId": "java"
    }
   },
   "outputs": [],
   "source": [
    "class Solution {\n",
    "\n",
    "  public void moveZeroes(int[] nums) {\n",
    "    int j = 0;\n",
    "    for (int i = 0; i < nums.length; i++) {\n",
    "      if (nums[i] != 0 && nums[j] == 0) {\n",
    "        int temp = nums[i];\n",
    "        nums[i] = nums[j];\n",
    "        nums[j] = temp;\n",
    "      }\n",
    "      if (nums[j] != 0) {\n",
    "        j++;\n",
    "      }\n",
    "    }\n",
    "  }\n",
    "}\n"
   ]
  },
  {
   "cell_type": "code",
   "execution_count": 7,
   "metadata": {
    "vscode": {
     "languageId": "java"
    }
   },
   "outputs": [
    {
     "name": "stdout",
     "output_type": "stream",
     "text": [
      "[1, 3, 5, 6, 7, 0, 0]\n"
     ]
    }
   ],
   "source": [
    "Solution s = new Solution();\n",
    "int[] arr = {1, 0, 3, 0, 5, 6, 7};\n",
    "s.moveZeroes(arr);\n",
    "System.out.println(Arrays.toString(arr));\n"
   ]
  },
  {
   "cell_type": "code",
   "execution_count": null,
   "metadata": {
    "vscode": {
     "languageId": "java"
    }
   },
   "outputs": [],
   "source": []
  }
 ],
 "metadata": {
  "kernelspec": {
   "display_name": "Java",
   "language": "java",
   "name": "java"
  },
  "language_info": {
   "codemirror_mode": "java",
   "file_extension": ".jshell",
   "mimetype": "text/x-java-source",
   "name": "Java",
   "pygments_lexer": "java",
   "version": "21.0.2+13-LTS-58"
  }
 },
 "nbformat": 4,
 "nbformat_minor": 2
}
