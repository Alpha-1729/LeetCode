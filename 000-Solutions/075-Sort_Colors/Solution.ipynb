{
 "cells": [
  {
   "cell_type": "code",
   "execution_count": null,
   "metadata": {},
   "outputs": [],
   "source": [
    "// Sort Colors\n",
    "\n",
    "/*\n",
    ">>>>\n",
    ">>>>\n",
    ">>>>\n",
    ">>>>\n",
    "*/\n"
   ]
  },
  {
   "cell_type": "markdown",
   "metadata": {},
   "source": [
    "# Approach.\n"
   ]
  },
  {
   "cell_type": "code",
   "execution_count": 1,
   "metadata": {},
   "outputs": [],
   "source": [
    "class Solution {\n",
    "\n",
    "  public void sortColors(int[] arr) {\n",
    "    int i = 0;\n",
    "    int j = 0;\n",
    "    int k = arr.length - 1;\n",
    "    while (i <= k) {\n",
    "      if (arr[i] == 0) {\n",
    "        swap(arr, i, j);\n",
    "        i++;\n",
    "        j++;\n",
    "      } else if (arr[i] == 1) {\n",
    "        i++;\n",
    "      } else if (arr[i] == 2) {\n",
    "        swap(arr, i, k);\n",
    "        k--;\n",
    "      }\n",
    "    }\n",
    "  }\n",
    "\n",
    "  public void swap(int[] arr, int i, int j) {\n",
    "    int temp = arr[i];\n",
    "    arr[i] = arr[j];\n",
    "    arr[j] = temp;\n",
    "  }\n",
    "}\n"
   ]
  },
  {
   "cell_type": "code",
   "execution_count": 2,
   "metadata": {},
   "outputs": [
    {
     "name": "stdout",
     "output_type": "stream",
     "text": [
      "[0, 0, 1, 1, 2, 2]\n"
     ]
    }
   ],
   "source": [
    "Solution s = new Solution();\n",
    "int [] arr = {2,0,2,1,1,0};\n",
    "s.sortColors(arr);\n",
    "System.out.println(Arrays.toString(arr));"
   ]
  },
  {
   "cell_type": "code",
   "execution_count": null,
   "metadata": {},
   "outputs": [],
   "source": []
  }
 ],
 "metadata": {
  "kernelspec": {
   "display_name": "Java",
   "language": "java",
   "name": "java"
  },
  "language_info": {
   "codemirror_mode": "java",
   "file_extension": ".jshell",
   "mimetype": "text/x-java-source",
   "name": "java",
   "pygments_lexer": "java",
   "version": "21.0.2+13-LTS-58"
  }
 },
 "nbformat": 4,
 "nbformat_minor": 2
}
