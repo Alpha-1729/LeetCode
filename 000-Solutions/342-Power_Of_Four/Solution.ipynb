{
 "cells": [
  {
   "cell_type": "code",
   "execution_count": null,
   "metadata": {},
   "outputs": [],
   "source": [
    "// Power Of Four\n",
    "\n",
    "/*\n",
    ">>>>\n",
    ">>>>\n",
    ">>>>\n",
    ">>>>\n",
    "*/\n"
   ]
  },
  {
   "cell_type": "markdown",
   "metadata": {},
   "source": [
    "# Approach.\n",
    "- Every multiple of 4 has '1' in the binary form and even number of zeroes after that."
   ]
  },
  {
   "cell_type": "code",
   "execution_count": null,
   "metadata": {},
   "outputs": [],
   "source": [
    "// Best Solution.\n",
    "class Solution {\n",
    "\n",
    "    public boolean isPowerOfFour(int n) {\n",
    "      return (\n",
    "        Integer.bitCount(n) == 1 && Integer.numberOfTrailingZeros(n) % 2 == 0\n",
    "      );\n",
    "    }\n",
    "  }"
   ]
  },
  {
   "cell_type": "code",
   "execution_count": null,
   "metadata": {},
   "outputs": [],
   "source": [
    "class Solution {\n",
    "\n",
    "  public boolean isPowerOfFour(int n) {\n",
    "    if (n <= 0) return false;\n",
    "    while (n % 4 == 0) {\n",
    "      n /= 4;\n",
    "    }\n",
    "\n",
    "    return n == 1;\n",
    "  }\n",
    "}\n"
   ]
  }
 ],
 "metadata": {
  "kernelspec": {
   "display_name": "Java",
   "language": "java",
   "name": "java"
  },
  "language_info": {
   "codemirror_mode": "java",
   "file_extension": ".jshell",
   "mimetype": "text/x-java-source",
   "name": "java",
   "pygments_lexer": "java",
   "version": "21.0.2+13-LTS-58"
  }
 },
 "nbformat": 4,
 "nbformat_minor": 2
}
