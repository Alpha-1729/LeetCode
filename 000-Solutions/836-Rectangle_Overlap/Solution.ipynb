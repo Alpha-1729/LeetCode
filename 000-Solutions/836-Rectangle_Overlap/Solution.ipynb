{
 "cells": [
  {
   "cell_type": "code",
   "execution_count": null,
   "metadata": {},
   "outputs": [],
   "source": [
    "// Rectangle Overlap\n",
    "\n",
    "/*\n",
    ">>>>\n",
    ">>>>\n",
    ">>>>\n",
    ">>>>\n",
    "*/\n"
   ]
  },
  {
   "cell_type": "markdown",
   "metadata": {},
   "source": [
    "# Approach.\n",
    "- Check if rectangle is left/right of another.\n",
    "- Check if rectangle is up/down of another."
   ]
  },
  {
   "cell_type": "code",
   "execution_count": 85,
   "metadata": {},
   "outputs": [],
   "source": [
    "class Solution {\n",
    "\n",
    "  public boolean isRectangleOverlap(int[] rec1, int[] rec2) {\n",
    "    // Check if rectangle is left/right of another.\n",
    "    if (rec1[2] <= rec2[0] || rec2[2] <= rec1[0]) {\n",
    "      return false;\n",
    "    }\n",
    "\n",
    "    // Check if rectangle is up/down of another.\n",
    "    if (rec1[3] <= rec2[1] || rec2[3] <= rec1[1]) {\n",
    "      return false;\n",
    "    }\n",
    "\n",
    "    return true;\n",
    "  }\n",
    "}\n"
   ]
  },
  {
   "cell_type": "code",
   "execution_count": 86,
   "metadata": {},
   "outputs": [
    {
     "data": {
      "text/plain": [
       "true"
      ]
     },
     "execution_count": 86,
     "metadata": {},
     "output_type": "execute_result"
    }
   ],
   "source": [
    "Solution solution = new Solution();\n",
    "\n",
    "int[] rectangle1 = {0, 0, 2, 2};\n",
    "int[] rectangle2 = {1, 1, 3, 3};\n",
    "\n",
    "solution.isRectangleOverlap(rectangle1, rectangle2);"
   ]
  }
 ],
 "metadata": {
  "kernelspec": {
   "display_name": "Java",
   "language": "java",
   "name": "java"
  },
  "language_info": {
   "codemirror_mode": "java",
   "file_extension": ".jshell",
   "mimetype": "text/x-java-source",
   "name": "java",
   "pygments_lexer": "java",
   "version": "21.0.2+13-LTS-58"
  }
 },
 "nbformat": 4,
 "nbformat_minor": 2
}
