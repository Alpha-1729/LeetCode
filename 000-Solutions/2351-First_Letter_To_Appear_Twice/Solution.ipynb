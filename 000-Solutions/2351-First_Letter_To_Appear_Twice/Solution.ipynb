{
 "cells": [
  {
   "cell_type": "code",
   "execution_count": null,
   "metadata": {},
   "outputs": [],
   "source": [
    "// First Letter To Appear Twice\n",
    "\n",
    "/*\n",
    ">>>>\n",
    ">>>>\n",
    ">>>>\n",
    ">>>>\n",
    "*/\n"
   ]
  },
  {
   "cell_type": "markdown",
   "metadata": {},
   "source": [
    "# Approach.\n",
    "- Create a boolean array of size 100.\n",
    "- After visiting the number, updating the boolean array with true.\n",
    "- On the next visit check the boolean value in the array.\n",
    "- If it is true, return the current character."
   ]
  },
  {
   "cell_type": "code",
   "execution_count": null,
   "metadata": {},
   "outputs": [],
   "source": [
    "class Solution {\n",
    "\n",
    "  public char repeatedCharacter(String s) {\n",
    "    boolean[] set = new boolean[100];\n",
    "    for (char c : s.toCharArray()) {\n",
    "      int index = c - 'a';\n",
    "      if (set[index] == true) {\n",
    "        return c;\n",
    "      }\n",
    "      set[index] = true;\n",
    "    }\n",
    "    return ' ';\n",
    "  }\n",
    "}\n"
   ]
  },
  {
   "cell_type": "code",
   "execution_count": null,
   "metadata": {},
   "outputs": [],
   "source": [
    "Solution s = new Solution();\n",
    "s.fib(30);"
   ]
  }
 ],
 "metadata": {
  "kernelspec": {
   "display_name": "Java",
   "language": "java",
   "name": "java"
  },
  "language_info": {
   "codemirror_mode": "java",
   "file_extension": ".jshell",
   "mimetype": "text/x-java-source",
   "name": "java",
   "pygments_lexer": "java",
   "version": "21.0.2+13-LTS-58"
  }
 },
 "nbformat": 4,
 "nbformat_minor": 2
}
