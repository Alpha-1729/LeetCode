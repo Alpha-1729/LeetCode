{
 "cells": [
  {
   "cell_type": "code",
   "execution_count": null,
   "metadata": {
    "vscode": {
     "languageId": "java"
    }
   },
   "outputs": [],
   "source": [
    "// Unique Email Addresses\n",
    "\n",
    "/*\n",
    ">>>>\n",
    ">>>>\n",
    ">>>>\n",
    ">>>>\n",
    "*/\n"
   ]
  },
  {
   "cell_type": "markdown",
   "metadata": {},
   "source": [
    "# Approach.\n",
    "- Same as mentioned in the question.\n"
   ]
  },
  {
   "cell_type": "code",
   "execution_count": 127,
   "metadata": {
    "vscode": {
     "languageId": "java"
    }
   },
   "outputs": [],
   "source": [
    "class Solution {\n",
    "\n",
    "  public int numUniqueEmails(String[] emails) {\n",
    "    Set<String> set = new HashSet<>();\n",
    "    for (String mail : emails) {\n",
    "      set.add(processString(mail));\n",
    "    }\n",
    "    return set.size();\n",
    "  }\n",
    "\n",
    "  public String processString(String email) {\n",
    "    int length = 0;\n",
    "    boolean join = true;\n",
    "    char[] arr = email.toCharArray();\n",
    "    int domainStart = email.indexOf('@');\n",
    "\n",
    "    for (int i = 0; i < domainStart; i++) {\n",
    "      if (arr[i] == '+') {\n",
    "        break;\n",
    "      } else if (arr[i] != '.') {\n",
    "        arr[length++] = arr[i];\n",
    "      }\n",
    "    }\n",
    "\n",
    "    for (int i = domainStart; i < arr.length; i++) {\n",
    "      arr[length++] = arr[i];\n",
    "    }\n",
    "\n",
    "    return String.valueOf(arr, 0, length);\n",
    "  }\n",
    "}\n"
   ]
  },
  {
   "cell_type": "code",
   "execution_count": 128,
   "metadata": {
    "vscode": {
     "languageId": "java"
    }
   },
   "outputs": [
    {
     "data": {
      "text/plain": [
       "a@e+c.com"
      ]
     },
     "execution_count": 128,
     "metadata": {},
     "output_type": "execute_result"
    }
   ],
   "source": [
    "Solution s = new Solution();\n",
    "String[] email = new String[] {\"test.email+alex@leetcode.com\",\"test.email.leet+alex@code.com\"};\n",
    "s.numUniqueEmails(email);\n",
    "s.processString(\"a@e+c.com\");\n"
   ]
  },
  {
   "cell_type": "code",
   "execution_count": null,
   "metadata": {
    "vscode": {
     "languageId": "java"
    }
   },
   "outputs": [],
   "source": []
  }
 ],
 "metadata": {
  "kernelspec": {
   "display_name": "Java",
   "language": "java",
   "name": "java"
  },
  "language_info": {
   "codemirror_mode": "java",
   "file_extension": ".jshell",
   "mimetype": "text/x-java-source",
   "name": "Java",
   "pygments_lexer": "java",
   "version": "21.0.2+13-LTS-58"
  }
 },
 "nbformat": 4,
 "nbformat_minor": 2
}
