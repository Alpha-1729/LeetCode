{
 "cells": [
  {
   "cell_type": "code",
   "execution_count": null,
   "metadata": {},
   "outputs": [],
   "source": [
    "// Roman To Integer\n",
    "\n",
    "/*\n",
    ">>>>\n",
    ">>>>\n",
    ">>>>\n",
    ">>>>\n",
    "*/\n"
   ]
  },
  {
   "cell_type": "code",
   "execution_count": 1,
   "metadata": {},
   "outputs": [],
   "source": [
    "class Solution {\n",
    "\n",
    "  public int romanToInt(String s) {\n",
    "    Map<Character, Integer> map = new HashMap<>();\n",
    "    map.put('I', 1);\n",
    "    map.put('V', 5);\n",
    "    map.put('X', 10);\n",
    "    map.put('L', 50);\n",
    "    map.put('C', 100);\n",
    "    map.put('D', 500);\n",
    "    map.put('M', 1000);\n",
    "\n",
    "    int ans = 0;\n",
    "    int n = s.length();\n",
    "\n",
    "    for (int i = 0; i < n; i++) {\n",
    "      if ((i < n - 1) && (map.get(s.charAt(i)) < map.get(s.charAt(i + 1)))) {\n",
    "        ans -= map.get(s.charAt(i));\n",
    "      } else {\n",
    "        ans += map.get(s.charAt(i));\n",
    "      }\n",
    "    }\n",
    "    return ans;\n",
    "  }\n",
    "}\n"
   ]
  },
  {
   "cell_type": "code",
   "execution_count": 2,
   "metadata": {},
   "outputs": [],
   "source": [
    "# Python Solution.\n",
    "class Solution:\n",
    "    def romanToInt(self, s: str) -> int:\n",
    "        m = {\n",
    "            \"I\": 1,\n",
    "            \"V\": 5,\n",
    "            \"X\": 10,\n",
    "            \"L\": 50,\n",
    "            \"C\": 100,\n",
    "            \"D\": 500,\n",
    "            \"M\": 1000,\n",
    "        }\n",
    "\n",
    "        ans = 0\n",
    "        n = len(s)\n",
    "\n",
    "        for i in range(n):\n",
    "            if i < n - 1 and m[s[i]] < m[s[i + 1]]:\n",
    "                ans -= m[s[i]]\n",
    "            else:\n",
    "                ans += m[s[i]]\n",
    "        return ans"
   ]
  }
 ],
 "metadata": {
  "kernelspec": {
   "display_name": "Java",
   "language": "java",
   "name": "java"
  },
  "language_info": {
   "codemirror_mode": "java",
   "file_extension": ".jshell",
   "mimetype": "text/x-java-source",
   "name": "java",
   "pygments_lexer": "java",
   "version": "21.0.2+13-LTS-58"
  }
 },
 "nbformat": 4,
 "nbformat_minor": 2
}
