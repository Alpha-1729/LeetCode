{
 "cells": [
  {
   "cell_type": "code",
   "execution_count": null,
   "metadata": {},
   "outputs": [],
   "source": [
    "// Keyword Row\n",
    "\n",
    "/*\n",
    ">>>>\n",
    ">>>>\n",
    ">>>>\n",
    ">>>>\n",
    "*/\n"
   ]
  },
  {
   "cell_type": "markdown",
   "metadata": {},
   "source": [
    "# Approach.\n",
    "- Check the question.\n",
    "- Same as in the question."
   ]
  },
  {
   "cell_type": "code",
   "execution_count": null,
   "metadata": {},
   "outputs": [],
   "source": [
    "// Best Solution.\n",
    "class Solution {\n",
    "\n",
    "  public String[] findWords(String[] words) {\n",
    "    String r1 = \"qwertyuiopQWERTYUIOP\";\n",
    "    String r2 = \"asdfghjklASDFGHJKL\";\n",
    "    String r3 = \"zxcvbnmZXCVBNM\";\n",
    "\n",
    "    List<String> result = new ArrayList<>();\n",
    "    for (String word : words) {\n",
    "      int row1 = 0, row2 = 0, row3 = 0;\n",
    "      for (char c : word.toCharArray()) {\n",
    "        if (r1.contains(String.valueOf(c))) {\n",
    "          row1 = 1;\n",
    "        } else if (r2.contains(String.valueOf(c))) {\n",
    "          row2 = 1;\n",
    "        } else {\n",
    "          row3 = 1;\n",
    "        }\n",
    "        if (row1 + row2 + row3 > 1) {\n",
    "          break;\n",
    "        }\n",
    "      }\n",
    "      if (row1 + row2 + row3 < 2) {\n",
    "        result.add(word);\n",
    "      }\n",
    "    }\n",
    "    String[] s = result.toArray(new String[0]);\n",
    "    return s;\n",
    "  }\n",
    "}\n"
   ]
  },
  {
   "cell_type": "code",
   "execution_count": 5,
   "metadata": {},
   "outputs": [],
   "source": [
    "class Solution {\n",
    "\n",
    "  public String[] findWords(String[] words) {\n",
    "    Map<Character, Integer> map = new HashMap<>();\n",
    "    String rowData = \"qwertyuiopQWERTYUIOP2asdfghjklASDFGHJKL3zxcvbnmZXCVBNM\";\n",
    "    int row = 1;\n",
    "    for (char c : rowData.toCharArray()) {\n",
    "      if (c == '2') {\n",
    "        row = 2;\n",
    "        continue;\n",
    "      }\n",
    "      if (c == '3') {\n",
    "        row = 3;\n",
    "        continue;\n",
    "      }\n",
    "      map.put(c, row);\n",
    "    }\n",
    "\n",
    "    List<String> result = new ArrayList<>();\n",
    "    for (String word : words) {\n",
    "      row = map.get(word.charAt(0));\n",
    "      for (char c : word.toCharArray()) {\n",
    "        if (row != map.get(c)) {\n",
    "          row = -1;\n",
    "          break;\n",
    "        }\n",
    "      }\n",
    "      if (row > 0) {\n",
    "        result.add(word);\n",
    "      }\n",
    "    }\n",
    "    String[] s = result.toArray(new String[0]);\n",
    "    return s;\n",
    "  }\n",
    "}\n"
   ]
  },
  {
   "cell_type": "code",
   "execution_count": 6,
   "metadata": {},
   "outputs": [
    {
     "name": "stdout",
     "output_type": "stream",
     "text": [
      "{A=2, B=3, C=3, D=2, E=1, F=2, G=2, H=2, I=1, J=2, K=2, L=2, M=3, N=3, O=1, P=1, Q=1, R=1, S=2, T=1, U=1, V=3, W=1, X=3, Y=1, Z=3, a=2, b=3, c=3, d=2, e=1, f=2, g=2, h=2, i=1, j=2, k=2, l=2, m=3, n=3, o=1, p=1, q=1, r=1, s=2, t=1, u=1, v=3, w=1, x=3, y=1, z=3}\n"
     ]
    },
    {
     "data": {
      "text/plain": [
       "true"
      ]
     },
     "execution_count": 6,
     "metadata": {},
     "output_type": "execute_result"
    }
   ],
   "source": [
    "Solution s = new Solution();\n",
    "s.findWords();"
   ]
  }
 ],
 "metadata": {
  "kernelspec": {
   "display_name": "Java",
   "language": "java",
   "name": "java"
  },
  "language_info": {
   "codemirror_mode": "java",
   "file_extension": ".jshell",
   "mimetype": "text/x-java-source",
   "name": "java",
   "pygments_lexer": "java",
   "version": "21.0.2+13-LTS-58"
  }
 },
 "nbformat": 4,
 "nbformat_minor": 2
}
