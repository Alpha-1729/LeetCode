{
 "cells": [
  {
   "cell_type": "code",
   "execution_count": null,
   "metadata": {},
   "outputs": [],
   "source": [
    "// Check If Array Is Good\n",
    "\n",
    "/*\n",
    ">>>>\n",
    ">>>>\n",
    ">>>>\n",
    ">>>>\n",
    "*/\n"
   ]
  },
  {
   "cell_type": "code",
   "execution_count": 5,
   "metadata": {},
   "outputs": [],
   "source": [
    "class Solution {\n",
    "\n",
    "  public boolean isGood(int[] nums) {\n",
    "    Set<Integer> numSet = new HashSet<>();\n",
    "    int maxValue = nums.length - 1;\n",
    "    int maxValueCount = 0;\n",
    "    for (int num : nums) {\n",
    "      if (num > maxValue) {\n",
    "        return false;\n",
    "      } else if (num == maxValue) {\n",
    "        maxValueCount += 1;\n",
    "      } else {\n",
    "        if (numSet.contains(num)) {\n",
    "          return false;\n",
    "        }\n",
    "      }\n",
    "      numSet.add(num);\n",
    "    }\n",
    "    if (maxValueCount != 2) {\n",
    "      return false;\n",
    "    }\n",
    "    return true;\n",
    "  }\n",
    "}\n"
   ]
  },
  {
   "cell_type": "code",
   "execution_count": null,
   "metadata": {},
   "outputs": [],
   "source": [
    "// Best solutions.\n",
    "class Solution {\n",
    "    public boolean isGood(int[] nums) {\n",
    "        int n = nums.length-1;\n",
    "        int[] f = new int[nums.length];\n",
    "        for(int i = 0; i<nums.length; i++) {    \n",
    "            if(nums[i] > n) return false;\n",
    "            f[nums[i]]++;\n",
    "        }\n",
    "        for(int i = 1; i<n; i++) {\n",
    "            if(f[i] != 1) return false;\n",
    "        }\n",
    "        if(f[n] != 2) return false;\n",
    "        return true;\n",
    "    }\n",
    "}\n",
    "\n",
    "  "
   ]
  }
 ],
 "metadata": {
  "kernelspec": {
   "display_name": "Java",
   "language": "java",
   "name": "java"
  },
  "language_info": {
   "codemirror_mode": "java",
   "file_extension": ".jshell",
   "mimetype": "text/x-java-source",
   "name": "java",
   "pygments_lexer": "java",
   "version": "21.0.2+13-LTS-58"
  }
 },
 "nbformat": 4,
 "nbformat_minor": 2
}
