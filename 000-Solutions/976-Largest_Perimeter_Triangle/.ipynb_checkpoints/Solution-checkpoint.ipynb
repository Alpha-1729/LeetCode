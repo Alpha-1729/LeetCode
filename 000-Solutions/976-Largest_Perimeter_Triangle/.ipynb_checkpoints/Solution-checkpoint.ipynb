{
 "cells": [
  {
   "cell_type": "code",
   "execution_count": null,
   "metadata": {
    "vscode": {
     "languageId": "java"
    }
   },
   "outputs": [],
   "source": [
    "// Largest Perimeter Triangle\n",
    "\n",
    "/*\n",
    ">>>>\n",
    ">>>>\n",
    ">>>>\n",
    ">>>>\n",
    "*/\n"
   ]
  },
  {
   "cell_type": "markdown",
   "metadata": {},
   "source": [
    "# Approach.1\n",
    "- Sort the array.\n",
    "- Loop from left to right.\n",
    "- Find max perimeter.\n",
    "\n",
    "# Approach.2"
   ]
  },
  {
   "cell_type": "code",
   "execution_count": 22,
   "metadata": {
    "vscode": {
     "languageId": "java"
    }
   },
   "outputs": [],
   "source": [
    "//  Solution using Array sort.\n",
    "class Solution {\n",
    "\n",
    "  public int largestPerimeter(int[] nums) {\n",
    "    Arrays.sort(nums);\n",
    "    int maxPerimeter = 0;\n",
    "\n",
    "    for (int i = 2; i < nums.length; i++) {\n",
    "      if ((nums[i - 1] + nums[i - 2]) > nums[i]) {\n",
    "        int perimeter = nums[i - 2] + nums[i - 1] + nums[i];\n",
    "        if (perimeter > maxPerimeter) maxPerimeter = perimeter;\n",
    "      }\n",
    "    }\n",
    "\n",
    "    return maxPerimeter;\n",
    "  }\n",
    "}\n"
   ]
  },
  {
   "cell_type": "code",
   "execution_count": 1,
   "metadata": {
    "vscode": {
     "languageId": "java"
    }
   },
   "outputs": [
    {
     "ename": "CompilationException",
     "evalue": "",
     "output_type": "error",
     "traceback": [
      "\u001b[1m\u001b[30m|   \u001b[1m\u001b[30m    int isSorted = \u001b[0m\u001b[1m\u001b[30m\u001b[41mtrue\u001b[0m\u001b[1m\u001b[30m;\u001b[0m",
      "\u001b[1m\u001b[31mincompatible types: boolean cannot be converted to int\u001b[0m",
      "",
      "\u001b[1m\u001b[30m|   \u001b[1m\u001b[30m      if (nums[i] > nums[i + 1]) isSorted = \u001b[0m\u001b[1m\u001b[30m\u001b[41mfalse\u001b[0m\u001b[1m\u001b[30m;\u001b[0m",
      "\u001b[1m\u001b[31mincompatible types: boolean cannot be converted to int\u001b[0m",
      "",
      "\u001b[1m\u001b[30m|   \u001b[1m\u001b[30m    return \u001b[0m\u001b[1m\u001b[30m\u001b[41misSorted\u001b[0m\u001b[1m\u001b[30m;\u001b[0m",
      "\u001b[1m\u001b[31mincompatible types: int cannot be converted to boolean\u001b[0m",
      ""
     ]
    }
   ],
   "source": [
    "class Solution {\n",
    "\n",
    "  public int largestPerimeter(int[] nums) {\n",
    "    int maxPerimeter = 0;\n",
    "    int totalSwapDone = nums.length;\n",
    "    int n = nums.length - 1;\n",
    "\n",
    "    for (int i = 0; i < nums.length; i++) {\n",
    "      if (maxPerimeter > 0) return maxPerimeter;\n",
    "      if (totalSwapDone > 0) totalSwapDone = singleSwap(nums, n);\n",
    "      n--;\n",
    "      if (i > 1) {\n",
    "        maxPerimeter = getPerimeter(nums[n + 1], nums[n + 2], nums[n + 3]);\n",
    "      }\n",
    "    }\n",
    "    return maxPerimeter;\n",
    "  }\n",
    "\n",
    "  public boolean maxSwap(int[] nums, int end) {\n",
    "    int isSorted = true;\n",
    "    int maxIndex = end;\n",
    "\n",
    "    for (int i = 0; i < end - 1; i++) {\n",
    "      if (nums[i] > nums[maxIndex]) maxIndex = i;\n",
    "      if (nums[i] > nums[i + 1]) isSorted = false;\n",
    "    }\n",
    "\n",
    "    if (maxIndex != end) swap(nums, maxIndex, end);\n",
    "    return isSorted;\n",
    "  }\n",
    "\n",
    "  public int singleSwap(int[] nums, int n) {\n",
    "    int swapCount = 0;\n",
    "    int max = nums[n];\n",
    "    int maxIndex = n;\n",
    "    for (int i = 0; i < n; i++) {\n",
    "      if (nums[i] > max) {\n",
    "        max = nums[i];\n",
    "        maxIndex = i;\n",
    "      }\n",
    "      if (nums[i] > nums[i + 1]) {\n",
    "        swapCount++;\n",
    "      }\n",
    "    }\n",
    "    if (n != maxIndex) swap(nums, maxIndex, n);\n",
    "    return swapCount;\n",
    "  }\n",
    "\n",
    "  public void swap(int[] nums, int l, int r) {\n",
    "    int temp = nums[l];\n",
    "    nums[l] = nums[r];\n",
    "    nums[r] = temp;\n",
    "  }\n",
    "\n",
    "  public int isValidSides(int a, int b, int c) {\n",
    "    if ((a + b) > c) {\n",
    "      return a + b + c;\n",
    "    }\n",
    "    return -1;\n",
    "  }\n",
    "\n",
    "  public int getPerimeter(int a, int b, int c) {\n",
    "    return (a + b > c) ? (a + b + c) : 0;\n",
    "  }\n",
    "}\n"
   ]
  },
  {
   "cell_type": "code",
   "execution_count": 7,
   "metadata": {
    "vscode": {
     "languageId": "java"
    }
   },
   "outputs": [],
   "source": [
    "// Best solution.\n",
    "class Solution {\n",
    "\n",
    "  public int largestPerimeter(int[] nums) {\n",
    "    int perimeter = 0;\n",
    "    int n = nums.length - 1;\n",
    "\n",
    "    sortLastValue(nums, n--);\n",
    "      System.out.println(n);\n",
    "      \n",
    "      System.out.println(n);\n",
    "    sortLastValue(nums, n--);\n",
    "    \n",
    "      System.out.println(n);\n",
    "      sortLastValue(nums, n--);\n",
    "    System.out.println(Arrays.toString(nums));\n",
    "\n",
    "    int a = nums[n + 1];\n",
    "    int b = nums[n + 2];\n",
    "    int c = nums[n + 3];\n",
    "    perimeter = getPerimeter(a, b, c);\n",
    "    if (perimeter > 0) return perimeter;\n",
    "\n",
    "    for (int i = n; i > 1; i--) {\n",
    "      sortLastValue(nums, n--);\n",
    "      a = nums[n + 1];\n",
    "      b = nums[n + 2];\n",
    "      c = nums[n + 3];\n",
    "      perimeter = getPerimeter(a, b, c);\n",
    "      if (perimeter > 0) return perimeter;\n",
    "    }\n",
    "    return perimeter;\n",
    "  }\n",
    "\n",
    "  public void sortLastValue(int[] nums, int end) {\n",
    "    int maxIndex = end;\n",
    "\n",
    "    for (int i = 0; i < end - 1; i++) {\n",
    "      if (nums[i] > nums[maxIndex]) maxIndex = i;\n",
    "    }\n",
    "\n",
    "    if (maxIndex != end) swap(nums, maxIndex, end);\n",
    "  }\n",
    "\n",
    "  public void swap(int[] nums, int l, int r) {\n",
    "    int temp = nums[l];\n",
    "    nums[l] = nums[r];\n",
    "    nums[r] = temp;\n",
    "  }\n",
    "\n",
    "  public int getPerimeter(int a, int b, int c) {\n",
    "    return (a + b > c) ? (a + b + c) : 0;\n",
    "  }\n",
    "}\n"
   ]
  },
  {
   "cell_type": "code",
   "execution_count": 4,
   "metadata": {
    "vscode": {
     "languageId": "java"
    }
   },
   "outputs": [],
   "source": [
    "public boolean sortLastValue(int[] nums, int end) {\n",
    "    boolean isSorted = true;\n",
    "    int maxIndex = end;\n",
    "\n",
    "    for (int i = 0; i < end - 1; i++) {\n",
    "      if (nums[i] > nums[maxIndex]) maxIndex = i;\n",
    "      if (nums[i] > nums[i + 1]) isSorted = false;\n",
    "    }\n",
    "\n",
    "    if (maxIndex != end) swap(nums, maxIndex, end);\n",
    "    return isSorted;\n",
    "  }"
   ]
  },
  {
   "cell_type": "code",
   "execution_count": 8,
   "metadata": {
    "vscode": {
     "languageId": "java"
    }
   },
   "outputs": [
    {
     "name": "stdout",
     "output_type": "stream",
     "text": [
      "[3, 2, 3, 4]\n"
     ]
    },
    {
     "data": {
      "text/plain": [
       "9"
      ]
     },
     "execution_count": 8,
     "metadata": {},
     "output_type": "execute_result"
    }
   ],
   "source": [
    "int[] sides = new int[]{3,2,3,4};\n",
    "Solution solution = new Solution(); \n",
    "solution.largestPerimeter(sides);"
   ]
  }
 ],
 "metadata": {
  "kernelspec": {
   "display_name": "Java",
   "language": "java",
   "name": "java"
  },
  "language_info": {
   "codemirror_mode": "java",
   "file_extension": ".jshell",
   "mimetype": "text/x-java-source",
   "name": "Java",
   "pygments_lexer": "java",
   "version": "21.0.2+13-LTS-58"
  }
 },
 "nbformat": 4,
 "nbformat_minor": 4
}
