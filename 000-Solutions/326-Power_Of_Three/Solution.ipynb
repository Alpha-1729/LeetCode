{
 "cells": [
  {
   "cell_type": "code",
   "execution_count": null,
   "metadata": {},
   "outputs": [],
   "source": [
    "// Power Of Three\n",
    "\n",
    "/*\n",
    ">>>>\n",
    ">>>>\n",
    ">>>>\n",
    ">>>>\n",
    "*/\n"
   ]
  },
  {
   "cell_type": "markdown",
   "metadata": {},
   "source": [
    "# Approach.\n",
    "- For integers below and including zero return false;\n",
    "- Else divide the number by 3, until it is divisible by 3.\n",
    "- At the end, if the number is 1, then it is a power of two.\n",
    "- Eg: 27 = 3*3*3;"
   ]
  },
  {
   "cell_type": "code",
   "execution_count": null,
   "metadata": {},
   "outputs": [],
   "source": [
    "class Solution {\n",
    "\n",
    "  public boolean isPowerOfThree(int n) {\n",
    "    if (n <= 0) return false;\n",
    "    while (n % 3 == 0) {\n",
    "      n /= 3;\n",
    "    }\n",
    "\n",
    "    return n == 1;\n",
    "  }\n",
    "}\n"
   ]
  }
 ],
 "metadata": {
  "kernelspec": {
   "display_name": "Java",
   "language": "java",
   "name": "java"
  },
  "language_info": {
   "codemirror_mode": "java",
   "file_extension": ".jshell",
   "mimetype": "text/x-java-source",
   "name": "java",
   "pygments_lexer": "java",
   "version": "21.0.2+13-LTS-58"
  }
 },
 "nbformat": 4,
 "nbformat_minor": 2
}
