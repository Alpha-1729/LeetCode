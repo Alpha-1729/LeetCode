{
 "cells": [
  {
   "cell_type": "code",
   "execution_count": null,
   "metadata": {
    "vscode": {
     "languageId": "java"
    }
   },
   "outputs": [],
   "source": [
    "// Self Dividing Numbers\n",
    "\n",
    "/*\n",
    ">>>>\n",
    ">>>>\n",
    ">>>>\n",
    ">>>>\n",
    "*/\n"
   ]
  },
  {
   "cell_type": "markdown",
   "metadata": {},
   "source": [
    "# Approach.\n",
    "- Grab each number from left to right.\n",
    "- Grab each digit from the number.\n",
    "  - If digit is 0, Don't add this number.\n",
    "  - If all number is not divisible by all digit, Don't add this number.\n",
    "  - Else add this number."
   ]
  },
  {
   "cell_type": "code",
   "execution_count": 21,
   "metadata": {
    "vscode": {
     "languageId": "java"
    }
   },
   "outputs": [],
   "source": [
    "// Best solution.\n",
    "class Solution {\n",
    "\n",
    "  public List<Integer> selfDividingNumbers(int left, int right) {\n",
    "    List<Integer> result = new ArrayList<>();\n",
    "    while (left <= right) {\n",
    "      if (isValid(left)) {\n",
    "        result.add(left);\n",
    "      }\n",
    "      ++left;\n",
    "    }\n",
    "\n",
    "    return result;\n",
    "  }\n",
    "\n",
    "  public boolean isValid(int num) {\n",
    "    int n = num;\n",
    "\n",
    "    while (n > 0) {\n",
    "      int digit = n % 10;\n",
    "      if (digit == 0) return false;\n",
    "      if (num % digit != 0) return false;\n",
    "      n /= 10;\n",
    "    }\n",
    "    return true;\n",
    "  }\n",
    "}\n"
   ]
  },
  {
   "cell_type": "code",
   "execution_count": 4,
   "metadata": {
    "vscode": {
     "languageId": "java"
    }
   },
   "outputs": [],
   "source": [
    "class Solution {\n",
    "\n",
    "  public List<Integer> selfDividingNumbers(int left, int right) {\n",
    "    List<Integer> result = new ArrayList<>();\n",
    "    for (int i = left; i <= right; i++) {\n",
    "      int num = i;\n",
    "      while (num != 0) {\n",
    "        int digit = num % 10;\n",
    "        if (digit == 0) {\n",
    "          break;\n",
    "        } else {\n",
    "          if (i % digit != 0) {\n",
    "            break;\n",
    "          }\n",
    "          num /= 10;\n",
    "        }\n",
    "      }\n",
    "      if (num == 0) {\n",
    "        result.add(i);\n",
    "      }\n",
    "    }\n",
    "\n",
    "    return result;\n",
    "  }\n",
    "}\n"
   ]
  },
  {
   "cell_type": "code",
   "execution_count": 22,
   "metadata": {
    "vscode": {
     "languageId": "java"
    }
   },
   "outputs": [
    {
     "data": {
      "text/plain": [
       "[111, 112, 115, 122, 124, 126, 128, 132, 135, 144]"
      ]
     },
     "execution_count": 22,
     "metadata": {},
     "output_type": "execute_result"
    },
    {
     "ename": "",
     "evalue": "",
     "output_type": "error",
     "traceback": [
      "\u001b[1;31mThe Kernel crashed while executing code in the the current cell or a previous cell. Please review the code in the cell(s) to identify a possible cause of the failure. Click <a href='https://aka.ms/vscodeJupyterKernelCrash'>here</a> for more info. View Jupyter <a href='command:jupyter.viewOutput'>log</a> for further details."
     ]
    }
   ],
   "source": [
    "Solution s = new Solution();\n",
    "s.selfDividingNumbers(100, 150);"
   ]
  }
 ],
 "metadata": {
  "kernelspec": {
   "display_name": "Java",
   "language": "java",
   "name": "java"
  },
  "language_info": {
   "codemirror_mode": "java",
   "file_extension": ".jshell",
   "mimetype": "text/x-java-source",
   "name": "Java",
   "pygments_lexer": "java",
   "version": "21.0.2+13-LTS-58"
  }
 },
 "nbformat": 4,
 "nbformat_minor": 2
}
