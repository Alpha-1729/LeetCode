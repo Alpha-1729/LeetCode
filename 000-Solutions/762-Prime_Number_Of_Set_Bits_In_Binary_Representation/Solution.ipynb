{
 "cells": [
  {
   "cell_type": "code",
   "execution_count": null,
   "metadata": {},
   "outputs": [],
   "source": [
    "// Prime Number Of Set Bits In Binary Representation\n",
    "\n",
    "/*\n",
    ">>>>\n",
    ">>>>\n",
    ">>>>\n",
    ">>>>\n",
    "*/\n"
   ]
  },
  {
   "cell_type": "markdown",
   "metadata": {},
   "source": [
    "# Approach.\n",
    "- Max number is 10^4.\n",
    "- It's binary representation contain 20 digits.\n",
    "- Store the prime number under 20 in a list.\n",
    "- For each number from left to right, find the number of 1 in the binary of the number.\n",
    "- Check the count exist in the prime number list."
   ]
  },
  {
   "cell_type": "code",
   "execution_count": 3,
   "metadata": {},
   "outputs": [],
   "source": [
    "class Solution {\n",
    "\n",
    "  public int countPrimeSetBits(int left, int right) {\n",
    "    Set<Integer> primeSet = new HashSet<>(Set.of(2, 3, 5, 7, 11, 13, 17, 19));\n",
    "    int count = 0;\n",
    "    while (left <= right) {\n",
    "      if (primeSet.contains(Integer.bitCount(left))) {\n",
    "        count++;\n",
    "      }\n",
    "      left++;\n",
    "    }\n",
    "    return count;\n",
    "  }\n",
    "}\n"
   ]
  },
  {
   "cell_type": "code",
   "execution_count": 5,
   "metadata": {},
   "outputs": [
    {
     "data": {
      "text/plain": [
       "5"
      ]
     },
     "execution_count": 5,
     "metadata": {},
     "output_type": "execute_result"
    },
    {
     "ename": "",
     "evalue": "",
     "output_type": "error",
     "traceback": [
      "\u001b[1;31mThe Kernel crashed while executing code in the the current cell or a previous cell. Please review the code in the cell(s) to identify a possible cause of the failure. Click <a href='https://aka.ms/vscodeJupyterKernelCrash'>here</a> for more info. View Jupyter <a href='command:jupyter.viewOutput'>log</a> for further details."
     ]
    }
   ],
   "source": [
    "Solution s = new Solution();\n",
    "s.countPrimeSetBits(10, 15);"
   ]
  }
 ],
 "metadata": {
  "kernelspec": {
   "display_name": "Java",
   "language": "java",
   "name": "java"
  },
  "language_info": {
   "codemirror_mode": "java",
   "file_extension": ".jshell",
   "mimetype": "text/x-java-source",
   "name": "java",
   "pygments_lexer": "java",
   "version": "21.0.2+13-LTS-58"
  }
 },
 "nbformat": 4,
 "nbformat_minor": 2
}
