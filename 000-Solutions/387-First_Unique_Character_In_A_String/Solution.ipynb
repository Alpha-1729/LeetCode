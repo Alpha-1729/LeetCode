{
 "cells": [
  {
   "cell_type": "code",
   "execution_count": null,
   "metadata": {},
   "outputs": [],
   "source": [
    "// First Unique Character In A String\n",
    "\n",
    "/*\n",
    ">>>>\n",
    ">>>>\n",
    ">>>>\n",
    ">>>>\n",
    "*/\n"
   ]
  },
  {
   "cell_type": "code",
   "execution_count": null,
   "metadata": {},
   "outputs": [],
   "source": [
    "class Solution {\n",
    "\n",
    "  public int firstUniqChar(String s) {\n",
    "    Map<Character, Integer> charMap = new HashMap<>();\n",
    "\n",
    "    for (int i = 0; i < s.length(); i++) {\n",
    "      char letter = s.charAt(i);\n",
    "      int freq = charMap.getOrDefault(letter, 0) + 1;\n",
    "      charMap.put(letter, freq);\n",
    "    }\n",
    "\n",
    "    for (int i = 0; i < s.length(); i++) {\n",
    "      char letter = s.charAt(i);\n",
    "      int freq = charMap.get(letter);\n",
    "      if (freq == 1) {\n",
    "        return i;\n",
    "      }\n",
    "    }\n",
    "    return -1;\n",
    "  }\n",
    "}\n"
   ]
  },
  {
   "cell_type": "code",
   "execution_count": null,
   "metadata": {},
   "outputs": [],
   "source": []
  }
 ],
 "metadata": {
  "kernelspec": {
   "display_name": "Java",
   "language": "java",
   "name": "java"
  },
  "language_info": {
   "codemirror_mode": "java",
   "file_extension": ".jshell",
   "mimetype": "text/x-java-source",
   "name": "java",
   "pygments_lexer": "java",
   "version": "21.0.2+13-LTS-58"
  }
 },
 "nbformat": 4,
 "nbformat_minor": 2
}
