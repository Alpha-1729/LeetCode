{
 "cells": [
  {
   "cell_type": "code",
   "execution_count": null,
   "metadata": {
    "vscode": {
     "languageId": "java"
    }
   },
   "outputs": [],
   "source": [
    "// Most Frequent Even Element\n",
    "\n",
    "/*\n",
    ">>>>\n",
    ">>>>\n",
    ">>>>\n",
    ">>>>\n",
    "*/\n"
   ]
  },
  {
   "cell_type": "code",
   "execution_count": null,
   "metadata": {
    "vscode": {
     "languageId": "java"
    }
   },
   "outputs": [],
   "source": [
    "class Solution {\n",
    "\n",
    "  public int mostFrequentEven(int[] nums) {\n",
    "    Map<Integer, Integer> numMap = new HashMap<Integer, Integer>();\n",
    "    int mostFreqEven = -1, evenFreq = 0;\n",
    "\n",
    "    for (int num : nums) {\n",
    "      if (num % 2 == 0) {\n",
    "        int freq = numMap.getOrDefault(num, 0) + 1;\n",
    "        numMap.put(num, freq);\n",
    "\n",
    "        if ((freq > evenFreq) || ((freq == evenFreq) && (num < mostFreqEven))) {\n",
    "          mostFreqEven = num;\n",
    "          evenFreq = freq;\n",
    "        }\n",
    "      }\n",
    "    }\n",
    "\n",
    "    return mostFreqEven;\n",
    "  }\n",
    "}\n"
   ]
  },
  {
   "cell_type": "code",
   "execution_count": null,
   "metadata": {
    "vscode": {
     "languageId": "java"
    }
   },
   "outputs": [],
   "source": [
    "\n"
   ]
  }
 ],
 "metadata": {
  "kernelspec": {
   "display_name": "Java",
   "language": "java",
   "name": "java"
  },
  "language_info": {
   "codemirror_mode": "java",
   "file_extension": ".jshell",
   "mimetype": "text/x-java-source",
   "name": "Java",
   "pygments_lexer": "java",
   "version": "21.0.2+13-LTS-58"
  }
 },
 "nbformat": 4,
 "nbformat_minor": 2
}
