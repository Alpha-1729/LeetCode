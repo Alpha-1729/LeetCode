{
 "cells": [
  {
   "cell_type": "code",
   "execution_count": 1,
   "metadata": {},
   "outputs": [],
   "source": [
    "// Valid Parenthesis\n",
    "\n",
    "/*\n",
    ">>>>\n",
    ">>>>\n",
    ">>>>\n",
    ">>>>\n",
    "*/\n"
   ]
  },
  {
   "cell_type": "code",
   "execution_count": 39,
   "metadata": {},
   "outputs": [],
   "source": [
    "class Solution {\n",
    "\n",
    "  public boolean isValid(String s) {\n",
    "    int top = 0;\n",
    "    char stack[] = new char[s.length()];\n",
    "\n",
    "    for (char c : s.toCharArray()) {\n",
    "      if (c == '(') {\n",
    "        stack[top] = ')';\n",
    "        top++;\n",
    "      } else if (c == '[') {\n",
    "        stack[top] = ']';\n",
    "        top++;\n",
    "      } else if (c == '{') {\n",
    "        stack[top] = '}';\n",
    "        top++;\n",
    "      } else {\n",
    "        if (top == 0 || stack[top - 1] != c) {\n",
    "          return false;\n",
    "        } else {\n",
    "          top--;\n",
    "        }\n",
    "      }\n",
    "    }\n",
    "    return top == 0;\n",
    "  }\n",
    "}\n"
   ]
  },
  {
   "cell_type": "code",
   "execution_count": 41,
   "metadata": {},
   "outputs": [
    {
     "data": {
      "text/plain": [
       "false"
      ]
     },
     "execution_count": 41,
     "metadata": {},
     "output_type": "execute_result"
    }
   ],
   "source": [
    "Solution s = new Solution();\n",
    "s.isValid(\"(]\");"
   ]
  }
 ],
 "metadata": {
  "kernelspec": {
   "display_name": "Java",
   "language": "java",
   "name": "java"
  },
  "language_info": {
   "codemirror_mode": "java",
   "file_extension": ".jshell",
   "mimetype": "text/x-java-source",
   "name": "java",
   "pygments_lexer": "java",
   "version": "21.0.2+13-LTS-58"
  }
 },
 "nbformat": 4,
 "nbformat_minor": 2
}
