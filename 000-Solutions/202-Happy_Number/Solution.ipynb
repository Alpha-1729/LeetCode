{
 "cells": [
  {
   "cell_type": "code",
   "execution_count": null,
   "metadata": {},
   "outputs": [],
   "source": [
    "// Happy Number\n",
    "\n",
    "/*\n",
    ">>>>\n",
    ">>>>\n",
    ">>>>\n",
    ">>>>\n",
    "*/\n"
   ]
  },
  {
   "cell_type": "code",
   "execution_count": null,
   "metadata": {},
   "outputs": [],
   "source": [
    "// This algorithm is called \"Floyd's tortoise and hare method\"\n",
    "class Solution {\n",
    "\n",
    "  public int getSquaredSum(int n) {\n",
    "    int sum = 0, digit = 0;\n",
    "    while (n != 0) {\n",
    "      digit = n % 10;\n",
    "      sum += digit * digit;\n",
    "      n = n / 10;\n",
    "    }\n",
    "    return sum;\n",
    "  }\n",
    "\n",
    "  public boolean isHappy(int n) {\n",
    "    int slow = n, fast = n;\n",
    "    do {\n",
    "      slow = getSquaredSum(slow);\n",
    "      fast = getSquaredSum(getSquaredSum(fast));\n",
    "    } while (slow != fast);\n",
    "    return slow == 1;\n",
    "  }\n",
    "}\n"
   ]
  },
  {
   "cell_type": "code",
   "execution_count": null,
   "metadata": {},
   "outputs": [],
   "source": [
    "// Solution using hashset.\n",
    "class Solution {\n",
    "\n",
    "  public int getSquaredSum(int n) {\n",
    "    int sum = 0, digit = 0;\n",
    "    while (n != 0) {\n",
    "      digit = n % 10;\n",
    "      sum += digit * digit;\n",
    "      n = n / 10;\n",
    "    }\n",
    "    return sum;\n",
    "  }\n",
    "\n",
    "  public boolean isHappy(int n) {\n",
    "    Set<Integer> doneNumbers = new HashSet<>();\n",
    "    if (n == 1) {\n",
    "      return true;\n",
    "    }\n",
    "    while (true) {\n",
    "      n = getSquaredSum(n);\n",
    "      if (n == 1) {\n",
    "        return true;\n",
    "      }\n",
    "      if (doneNumbers.contains(n)) {\n",
    "        return false;\n",
    "      }\n",
    "      doneNumbers.add(n);\n",
    "    }\n",
    "  }\n",
    "}\n"
   ]
  }
 ],
 "metadata": {
  "kernelspec": {
   "display_name": "Java",
   "language": "java",
   "name": "java"
  },
  "language_info": {
   "codemirror_mode": "java",
   "file_extension": ".jshell",
   "mimetype": "text/x-java-source",
   "name": "java",
   "pygments_lexer": "java",
   "version": "21.0.2+13-LTS-58"
  }
 },
 "nbformat": 4,
 "nbformat_minor": 2
}
