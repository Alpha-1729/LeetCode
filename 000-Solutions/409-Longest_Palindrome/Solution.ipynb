{
 "cells": [
  {
   "cell_type": "code",
   "execution_count": 30,
   "metadata": {},
   "outputs": [],
   "source": [
    "// Longest Palindrome\n",
    "\n",
    "/*\n",
    ">>>>\n",
    ">>>>\n",
    ">>>>\n",
    ">>>>\n",
    "*/\n"
   ]
  },
  {
   "cell_type": "code",
   "execution_count": 34,
   "metadata": {},
   "outputs": [],
   "source": [
    "class Solution {\n",
    "\n",
    "  public int longestPalindrome(String s) {\n",
    "    int length = 0;\n",
    "    HashSet<Character> set = new HashSet<>();\n",
    "    for (char c : s.toCharArray()) {\n",
    "      if (set.contains(c)) {\n",
    "        set.remove(c);\n",
    "        length += 2;\n",
    "      } else {\n",
    "        set.add(c);\n",
    "      }\n",
    "    }\n",
    "    if (!set.isEmpty()) {\n",
    "      length++;\n",
    "    }\n",
    "    return length;\n",
    "  }\n",
    "}\n"
   ]
  },
  {
   "cell_type": "code",
   "execution_count": 35,
   "metadata": {},
   "outputs": [],
   "source": [
    "// Best solution.\n",
    "class Solution {\n",
    "\n",
    "  public int longestPalindrome(String s) {\n",
    "    int length = 0;\n",
    "    boolean isOdd = false;\n",
    "    int arr[] = new int[52];\n",
    "    for (char c : s.toCharArray()) {\n",
    "      if (Character.isUpperCase(c)) {\n",
    "        arr[26 + (c - 'A')]++;\n",
    "      } else {\n",
    "        arr[c - 'a']++;\n",
    "      }\n",
    "    }\n",
    "    for (int i : arr) {\n",
    "      if (i % 2 == 0) {\n",
    "        length += i;\n",
    "      } else {\n",
    "        isOdd = true;\n",
    "        length += i - 1;\n",
    "      }\n",
    "    }\n",
    "    if (isOdd) {\n",
    "      length++;\n",
    "    }\n",
    "    return length;\n",
    "  }\n",
    "}\n"
   ]
  },
  {
   "cell_type": "code",
   "execution_count": 36,
   "metadata": {},
   "outputs": [],
   "source": [
    "// Best solution 2;\n",
    "class Solution {\n",
    "\n",
    "  public int longestPalindrome(String s) {\n",
    "    int[] arr = new int[128];\n",
    "    for (char c : s.toCharArray()) {\n",
    "      arr[c]++;\n",
    "    }\n",
    "    int res = 0;\n",
    "    for (int i : arr) {\n",
    "      res += i / 2 * 2;\n",
    "    }\n",
    "    if (res < s.length()) {\n",
    "      res += 1;\n",
    "    }\n",
    "    return res;\n",
    "  }\n",
    "}\n"
   ]
  }
 ],
 "metadata": {
  "kernelspec": {
   "display_name": "Java",
   "language": "java",
   "name": "java"
  },
  "language_info": {
   "codemirror_mode": "java",
   "file_extension": ".jshell",
   "mimetype": "text/x-java-source",
   "name": "java",
   "pygments_lexer": "java",
   "version": "21.0.2+13-LTS-58"
  }
 },
 "nbformat": 4,
 "nbformat_minor": 2
}
