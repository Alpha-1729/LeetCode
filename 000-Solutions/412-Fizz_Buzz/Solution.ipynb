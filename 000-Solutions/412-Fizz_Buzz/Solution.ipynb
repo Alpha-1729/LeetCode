{
 "cells": [
  {
   "cell_type": "code",
   "execution_count": null,
   "metadata": {
    "vscode": {
     "languageId": "java"
    }
   },
   "outputs": [],
   "source": [
    "// Fizz Buzz\n",
    "\n",
    "/*\n",
    ">>>>\n",
    ">>>>\n",
    ">>>>\n",
    ">>>>\n",
    "*/\n"
   ]
  },
  {
   "cell_type": "markdown",
   "metadata": {},
   "source": [
    "# Approach\n",
    "- Refer the code and question."
   ]
  },
  {
   "cell_type": "code",
   "execution_count": 6,
   "metadata": {
    "vscode": {
     "languageId": "java"
    }
   },
   "outputs": [],
   "source": [
    "class Solution {\n",
    "\n",
    "  public List<String> fizzBuzz(int n) {\n",
    "    List<String> result = new ArrayList<>();\n",
    "    \n",
    "    for (int i = 1; i <= n; i++) {\n",
    "      if (i % 3 == 0 && i % 5 == 0) {\n",
    "        result.add(\"FizzBuzz\");\n",
    "      } else if (i % 3 == 0) {\n",
    "        result.add(\"Fizz\");\n",
    "      } else if (i % 5 == 0) {\n",
    "        result.add(\"Buzz\");\n",
    "      } else {\n",
    "        result.add(String.valueOf(i));\n",
    "      }\n",
    "    }\n",
    "    return result;\n",
    "  }\n",
    "}\n"
   ]
  }
 ],
 "metadata": {
  "kernelspec": {
   "display_name": "Java",
   "language": "java",
   "name": "java"
  },
  "language_info": {
   "codemirror_mode": "java",
   "file_extension": ".jshell",
   "mimetype": "text/x-java-source",
   "name": "Java",
   "pygments_lexer": "java",
   "version": "21.0.2+13-LTS-58"
  }
 },
 "nbformat": 4,
 "nbformat_minor": 2
}
