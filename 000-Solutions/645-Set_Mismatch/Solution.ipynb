{
 "cells": [
  {
   "cell_type": "code",
   "execution_count": null,
   "metadata": {
    "vscode": {
     "languageId": "java"
    }
   },
   "outputs": [],
   "source": [
    "// Set Mismatch\n",
    "\n",
    "/*\n",
    ">>>>\n",
    ">>>>\n",
    ">>>>\n",
    ">>>>\n",
    "*/\n"
   ]
  },
  {
   "cell_type": "markdown",
   "metadata": {},
   "source": [
    "# Approach.\n",
    "- Use a boolean array to find the duplicate item.\n",
    "- Loop through the array and find the duplicate number and sum of elements in the array.\n",
    "- Calculate missing number.\n"
   ]
  },
  {
   "cell_type": "code",
   "execution_count": 25,
   "metadata": {
    "vscode": {
     "languageId": "java"
    }
   },
   "outputs": [],
   "source": [
    "class Solution {\n",
    "\n",
    "  public int[] findErrorNums(int[] nums) {\n",
    "    int n = nums.length;\n",
    "    boolean[] temp = new boolean[n + 1];\n",
    "    int sum = (n * (n + 1)) / 2;\n",
    "    int missing = 0;\n",
    "\n",
    "    for (int i : nums) {\n",
    "      if (temp[i]) {\n",
    "        missing = i;\n",
    "      }\n",
    "      temp[i] = true;\n",
    "      sum -= i;\n",
    "    }\n",
    "    return new int[] { missing, missing + sum };\n",
    "  }\n",
    "}\n"
   ]
  },
  {
   "cell_type": "code",
   "execution_count": 26,
   "metadata": {
    "vscode": {
     "languageId": "java"
    }
   },
   "outputs": [
    {
     "data": {
      "text/plain": [
       "[I@26b8369f"
      ]
     },
     "execution_count": 26,
     "metadata": {},
     "output_type": "execute_result"
    }
   ],
   "source": [
    "Solution s = new Solution();\n",
    "int[] nums = new int[]{1,2,2,4};\n",
    "\n",
    "s.findErrorNums(nums);"
   ]
  },
  {
   "cell_type": "code",
   "execution_count": null,
   "metadata": {
    "vscode": {
     "languageId": "java"
    }
   },
   "outputs": [],
   "source": []
  }
 ],
 "metadata": {
  "kernelspec": {
   "display_name": "Java",
   "language": "java",
   "name": "java"
  },
  "language_info": {
   "codemirror_mode": "java",
   "file_extension": ".jshell",
   "mimetype": "text/x-java-source",
   "name": "Java",
   "pygments_lexer": "java",
   "version": "21.0.2+13-LTS-58"
  }
 },
 "nbformat": 4,
 "nbformat_minor": 2
}
