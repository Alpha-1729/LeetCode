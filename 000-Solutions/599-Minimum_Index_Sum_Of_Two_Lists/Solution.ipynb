{
 "cells": [
  {
   "cell_type": "code",
   "execution_count": null,
   "metadata": {
    "vscode": {
     "languageId": "java"
    }
   },
   "outputs": [],
   "source": [
    "// Minimum Index Sum Of Two Lists\n",
    "\n",
    "/*\n",
    ">>>>\n",
    ">>>>\n",
    ">>>>\n",
    ">>>>\n",
    "*/\n"
   ]
  },
  {
   "cell_type": "markdown",
   "metadata": {},
   "source": [
    "# Approach.\n",
    "- Create hashmap.\n",
    "- Add all element and index of list1 in the hashmap.\n",
    "- Loop through the list2 and if string already in hashmap, Add all strings to the starting index of the list1.\n",
    "- Keep track of the count of the strings with minIndexSum.\n",
    "- Slice the list1 till the count.\n"
   ]
  },
  {
   "cell_type": "code",
   "execution_count": 50,
   "metadata": {
    "vscode": {
     "languageId": "java"
    }
   },
   "outputs": [],
   "source": [
    "// My Best Solution.\n",
    "public class Solution {\n",
    "\n",
    "  public String[] findRestaurant(String[] list1, String[] list2) {\n",
    "    if (list1.length > list2.length) {\n",
    "      return findRestaurant(list2, list1);\n",
    "    }\n",
    "\n",
    "    HashMap<String, Integer> map = new HashMap<>();\n",
    "    for (int i = 0; i < list1.length; i++) {\n",
    "      map.put(list1[i], i);\n",
    "    }\n",
    "\n",
    "    int min = 2000;\n",
    "    int count = 0;\n",
    "    int len = list2.length;\n",
    "\n",
    "    for (int i = 0; i < len; i++) {\n",
    "      if (i > min) break;\n",
    "      Integer tmp = map.get(list2[i]);\n",
    "      if (tmp != null) {\n",
    "        tmp += i;\n",
    "        if (tmp < min) {\n",
    "          min = tmp;\n",
    "          count = 0;\n",
    "          list1[count] = list2[i];\n",
    "        } else if (tmp == min) {\n",
    "          count++;\n",
    "          list1[count] = list2[i];\n",
    "        }\n",
    "      }\n",
    "    }\n",
    "    return getSlicedArray(list1, count);\n",
    "  }\n",
    "\n",
    "  public String[] getSlicedArray(String[] arr, int index) {\n",
    "    String[] result = new String[index + 1];\n",
    "    for (int i = 0; i <= index; i++) {\n",
    "      result[i] = arr[i];\n",
    "    }\n",
    "    return result;\n",
    "  }\n",
    "}\n"
   ]
  },
  {
   "cell_type": "code",
   "execution_count": 23,
   "metadata": {
    "vscode": {
     "languageId": "java"
    }
   },
   "outputs": [],
   "source": [
    "class Solution {\n",
    "\n",
    "  public String[] findRestaurant(String[] list1, String[] list2) {\n",
    "    int minIndexSum = Integer.MAX_VALUE;\n",
    "    List<String> result = new ArrayList<>();\n",
    "    Map<String, Integer> map = new HashMap<>();\n",
    "\n",
    "    for (int i = 0; i < list1.length; i++) {\n",
    "      map.put(list1[i], i);\n",
    "    }\n",
    "\n",
    "    for (int j = 0; j < list2.length; j++) {\n",
    "      String s = list2[j];\n",
    "      if (map.containsKey(s)) {\n",
    "        int temp = j + map.get(s);\n",
    "        if (minIndexSum > temp) {\n",
    "          result.clear();\n",
    "          result.add(s);\n",
    "          minIndexSum = temp;\n",
    "        } else if (minIndexSum == temp) {\n",
    "          result.add(s);\n",
    "        }\n",
    "      }\n",
    "    }\n",
    "    System.out.println(result);\n",
    "\n",
    "    return result.toArray(new String[result.size()]);\n",
    "  }\n",
    "}\n"
   ]
  },
  {
   "cell_type": "code",
   "execution_count": 48,
   "metadata": {
    "vscode": {
     "languageId": "java"
    }
   },
   "outputs": [
    {
     "name": "stdout",
     "output_type": "stream",
     "text": [
      "[sad, happy]\n"
     ]
    },
    {
     "data": {
      "text/plain": [
       "[Ljava.lang.String;@53b18b3f"
      ]
     },
     "execution_count": 48,
     "metadata": {},
     "output_type": "execute_result"
    }
   ],
   "source": [
    "Solution solution = new Solution();\n",
    "String[] list1 = {\"happy\",\"sad\",\"good\"};\n",
    "String[] list2 = {\"sad\",\"happy\",\"good\"};\n",
    "\n",
    "solution.findRestaurant(list1, list2);"
   ]
  },
  {
   "cell_type": "code",
   "execution_count": 47,
   "metadata": {
    "vscode": {
     "languageId": "java"
    }
   },
   "outputs": [],
   "source": []
  },
  {
   "cell_type": "code",
   "execution_count": null,
   "metadata": {
    "vscode": {
     "languageId": "java"
    }
   },
   "outputs": [],
   "source": []
  }
 ],
 "metadata": {
  "kernelspec": {
   "display_name": "Java",
   "language": "java",
   "name": "java"
  },
  "language_info": {
   "codemirror_mode": "java",
   "file_extension": ".jshell",
   "mimetype": "text/x-java-source",
   "name": "Java",
   "pygments_lexer": "java",
   "version": "21.0.2+13-LTS-58"
  }
 },
 "nbformat": 4,
 "nbformat_minor": 2
}
