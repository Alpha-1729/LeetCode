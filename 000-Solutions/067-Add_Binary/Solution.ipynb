{
 "cells": [
  {
   "cell_type": "code",
   "execution_count": null,
   "metadata": {},
   "outputs": [],
   "source": [
    "// Add Binary\n",
    "\n",
    "/*\n",
    ">>>>\n",
    ">>>>\n",
    ">>>>\n",
    ">>>>\n",
    "*/\n"
   ]
  },
  {
   "cell_type": "markdown",
   "metadata": {
    "vscode": {
     "languageId": "java"
    }
   },
   "source": [
    "# Approach\n",
    "- Loop from end of both string.\n",
    "- Calculate sum of last digit of each string.\n",
    "- Truth table of the sum of binary number is given below.\n",
    "  - A, B, Sum, Carry\n",
    "  - A B S C\n",
    "  - 0 0 0 0\n",
    "  - 1 0 1 0\n",
    "  - 0 1 1 0\n",
    "  - 1 1 0 1\n",
    "- Calculated sum of last digit is added into a string.\n",
    "- Reverse the string to get the actual binary sum."
   ]
  },
  {
   "cell_type": "code",
   "execution_count": 8,
   "metadata": {},
   "outputs": [],
   "source": [
    "class Solution {\n",
    "\n",
    "  public String addBinary(String a, String b) {\n",
    "    int i = a.length() - 1, j = b.length() - 1;\n",
    "    int carry = 0;\n",
    "    StringBuilder sb = new StringBuilder();\n",
    "\n",
    "    while (i >= 0 || j >= 0) {\n",
    "      if (i >= 0) carry += a.charAt(i--) - '0';\n",
    "      if (j >= 0) carry += b.charAt(j--) - '0';\n",
    "\n",
    "      sb.append(carry % 2);\n",
    "      carry /= 2;\n",
    "    }\n",
    "    if(carry == 1) sb.append(carry);\n",
    "    return sb.reverse().toString();\n",
    "  }\n",
    "}"
   ]
  },
  {
   "cell_type": "code",
   "execution_count": 9,
   "metadata": {},
   "outputs": [
    {
     "data": {
      "text/plain": [
       "100"
      ]
     },
     "execution_count": 9,
     "metadata": {},
     "output_type": "execute_result"
    }
   ],
   "source": [
    "Solution a = new Solution();\n",
    "a.addBinary(\"11\", \"1\");"
   ]
  }
 ],
 "metadata": {
  "kernelspec": {
   "display_name": "Java",
   "language": "java",
   "name": "java"
  },
  "language_info": {
   "codemirror_mode": "java",
   "file_extension": ".jshell",
   "mimetype": "text/x-java-source",
   "name": "java",
   "pygments_lexer": "java",
   "version": "21.0.2+13-LTS-58"
  }
 },
 "nbformat": 4,
 "nbformat_minor": 2
}
