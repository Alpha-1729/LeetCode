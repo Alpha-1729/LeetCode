{
 "cells": [
  {
   "cell_type": "code",
   "execution_count": null,
   "metadata": {
    "vscode": {
     "languageId": "java"
    }
   },
   "outputs": [],
   "source": [
    "// Majority Element\n",
    "\n",
    "/*\n",
    ">>>>\n",
    ">>>>\n",
    ">>>>\n",
    ">>>>\n",
    "*/\n"
   ]
  },
  {
   "cell_type": "code",
   "execution_count": null,
   "metadata": {
    "vscode": {
     "languageId": "java"
    }
   },
   "outputs": [],
   "source": [
    "class Solution {\n",
    "\n",
    "  public int majorityElement(int[] nums) {\n",
    "    Map<Integer, Integer> numMap = new HashMap<>();\n",
    "    float halfCount = (float) nums.length / 2;\n",
    "    for (int num : nums) {\n",
    "      int freq = numMap.getOrDefault(num, 0) + 1;\n",
    "      if (freq > halfCount) {\n",
    "        return num;\n",
    "      }\n",
    "      numMap.put(num, freq);\n",
    "    }\n",
    "    return 0;\n",
    "  }\n",
    "}\n"
   ]
  },
  {
   "cell_type": "code",
   "execution_count": null,
   "metadata": {
    "vscode": {
     "languageId": "java"
    }
   },
   "outputs": [],
   "source": [
    "// Moore Vote Algorithm.\n",
    "class Solution {\n",
    "\n",
    "    public int majorityElement(int[] nums) {\n",
    "        int count=0, candidate = 0;\n",
    "        for (int num : nums) {\n",
    "            if (count == 0){\n",
    "                candidate = num;\n",
    "            }\n",
    "            if (candidate == num) {\n",
    "                count++;\n",
    "            }\n",
    "            else {\n",
    "                count--;\n",
    "            }\n",
    "        }\n",
    "        return candidate;\n",
    "    }\n",
    "}"
   ]
  },
  {
   "cell_type": "code",
   "execution_count": null,
   "metadata": {
    "vscode": {
     "languageId": "java"
    }
   },
   "outputs": [],
   "source": []
  }
 ],
 "metadata": {
  "kernelspec": {
   "display_name": "Java",
   "language": "java",
   "name": "java"
  },
  "language_info": {
   "codemirror_mode": "java",
   "file_extension": ".jshell",
   "mimetype": "text/x-java-source",
   "name": "Java",
   "pygments_lexer": "java",
   "version": "21.0.2+13-LTS-58"
  }
 },
 "nbformat": 4,
 "nbformat_minor": 2
}
