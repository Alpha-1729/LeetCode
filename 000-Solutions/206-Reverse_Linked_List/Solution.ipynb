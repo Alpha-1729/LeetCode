{
 "cells": [
  {
   "cell_type": "code",
   "execution_count": null,
   "metadata": {},
   "outputs": [],
   "source": [
    "// Reverse Linked List\n",
    "\n",
    "/*\n",
    ">>>>\n",
    ">>>>\n",
    ">>>>\n",
    ">>>>\n",
    "*/\n"
   ]
  },
  {
   "cell_type": "markdown",
   "metadata": {},
   "source": [
    "# Approach.\n"
   ]
  },
  {
   "cell_type": "code",
   "execution_count": null,
   "metadata": {},
   "outputs": [],
   "source": [
    "/**\n",
    " * Definition for singly-linked list.\n",
    " * public class ListNode {\n",
    " * int val;\n",
    " * ListNode next;\n",
    " * ListNode() {}\n",
    " * ListNode(int val) { this.val = val; }\n",
    " * ListNode(int val, ListNode next) { this.val = val; this.next = next; }\n",
    " * }\n",
    " */\n",
    "class Solution {\n",
    "\n",
    "  public ListNode reverseList(ListNode head) {\n",
    "    if (head == null) {\n",
    "      return head;\n",
    "    }\n",
    "\n",
    "    ListNode current = head;\n",
    "    ListNode next = null;\n",
    "    ListNode previous = null;\n",
    "\n",
    "    while (current != null) {\n",
    "      next = current.next;\n",
    "      current.next = previous;\n",
    "      previous = current;\n",
    "      current = next;\n",
    "    }\n",
    "    return previous;\n",
    "  }\n",
    "}\n"
   ]
  },
  {
   "cell_type": "code",
   "execution_count": null,
   "metadata": {},
   "outputs": [],
   "source": [
    "Solution s = new Solution();\n",
    "s.fib(30);"
   ]
  }
 ],
 "metadata": {
  "kernelspec": {
   "display_name": "Java",
   "language": "java",
   "name": "java"
  },
  "language_info": {
   "codemirror_mode": "java",
   "file_extension": ".jshell",
   "mimetype": "text/x-java-source",
   "name": "java",
   "pygments_lexer": "java",
   "version": "21.0.2+13-LTS-58"
  }
 },
 "nbformat": 4,
 "nbformat_minor": 2
}
