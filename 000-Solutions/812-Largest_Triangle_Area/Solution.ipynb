{
 "cells": [
  {
   "cell_type": "code",
   "execution_count": null,
   "metadata": {},
   "outputs": [],
   "source": [
    "// Largest Triangle Area\n",
    "\n",
    "/*\n",
    ">>>>\n",
    ">>>>\n",
    ">>>>\n",
    ">>>>\n",
    "*/\n"
   ]
  },
  {
   "cell_type": "markdown",
   "metadata": {},
   "source": [
    "# Approach.\n"
   ]
  },
  {
   "cell_type": "code",
   "execution_count": 3,
   "metadata": {},
   "outputs": [
    {
     "ename": "CompilationException",
     "evalue": "",
     "output_type": "error",
     "traceback": [
      "\u001b[1m\u001b[30m|   \u001b[1m\u001b[30m  public double largestTriangleArea(int[][] points) \u001b[0m\u001b[1m\u001b[30m\u001b[41m{\u001b[0m",
      "\u001b[1m\u001b[30m|   \u001b[1m\u001b[30m\u001b[41m    int minX = points[0][0], minY = points[0][1], maxX = points[0][0], maxY =\u001b[0m",
      "\u001b[1m\u001b[30m|   \u001b[1m\u001b[30m\u001b[41m      points[0][1], x = 0, y = 0;\u001b[0m",
      "\u001b[1m\u001b[30m|   \u001b[1m\u001b[30m\u001b[41m    double area = 0;\u001b[0m",
      "\u001b[1m\u001b[30m|   \u001b[1m\u001b[30m\u001b[41m    for (int i = 0; i < points.length; i++) {\u001b[0m",
      "\u001b[1m\u001b[30m|   \u001b[1m\u001b[30m\u001b[41m      x = points[i][0];\u001b[0m",
      "\u001b[1m\u001b[30m|   \u001b[1m\u001b[30m\u001b[41m      y = points[i][1];\u001b[0m",
      "\u001b[1m\u001b[30m|   \u001b[1m\u001b[30m\u001b[41m\u001b[0m",
      "\u001b[1m\u001b[30m|   \u001b[1m\u001b[30m\u001b[41m      if (x < minX) minX = x; else if (x > maxX) maxX = x;\u001b[0m",
      "\u001b[1m\u001b[30m|   \u001b[1m\u001b[30m\u001b[41m      if (y < minY) minY = y; else if (y > maxY) maxY = y;\u001b[0m",
      "\u001b[1m\u001b[30m|   \u001b[1m\u001b[30m\u001b[41m    }\u001b[0m",
      "\u001b[1m\u001b[30m|   \u001b[1m\u001b[30m\u001b[41m    \u001b[0m",
      "\u001b[1m\u001b[30m|   \u001b[1m\u001b[30m\u001b[41m  }\u001b[0m",
      "\u001b[1m\u001b[31mmissing return statement\u001b[0m",
      ""
     ]
    }
   ],
   "source": [
    "class Solution {\n",
    "\n",
    "  public double largestTriangleArea(int[][] points) {\n",
    "    double area = 0;\n",
    "    for (int i = 0; i < points.length; i++) {\n",
    "      for (int j = i; j < points.length; j++) {\n",
    "        for (int k = j; j < points.length; k++) {\n",
    "          int[][] cords = {\n",
    "            { points[i][0], points[i][1] },\n",
    "            { points[j][0], points[j][1] },\n",
    "            { points[k][0], points[k][1] },\n",
    "          };\n",
    "          double calArea = calculateTriangleArea(cords);\n",
    "          if (calArea > area) area = calArea;\n",
    "        }\n",
    "      }\n",
    "    }\n",
    "\n",
    "    return area;\n",
    "  }\n",
    "\n",
    "  public double calculateTriangleArea(int[][] points) {\n",
    "    return (\n",
    "      0.5 *\n",
    "      Math.abs(\n",
    "        points[0][0] *\n",
    "        (points[1][1] - points[2][1]) +\n",
    "        points[1][0] *\n",
    "        (points[2][1] - points[0][1]) +\n",
    "        points[2][0] *\n",
    "        (points[0][1] - points[1][1])\n",
    "      )\n",
    "    );\n",
    "  }\n",
    "}\n"
   ]
  },
  {
   "cell_type": "code",
   "execution_count": 2,
   "metadata": {},
   "outputs": [
    {
     "name": "stdout",
     "output_type": "stream",
     "text": [
      "1\n",
      "2\n",
      "5\n",
      "6\n"
     ]
    },
    {
     "data": {
      "text/plain": [
       "1.0"
      ]
     },
     "execution_count": 2,
     "metadata": {},
     "output_type": "execute_result"
    }
   ],
   "source": [
    "Solution solution = new Solution();\n",
    "\n",
    "        int[][] predefinedPoints = {\n",
    "                {1, 2},\n",
    "                {3, 4},\n",
    "                {5, 6}\n",
    "        };\n",
    "\n",
    "        solution.largestTriangleArea(predefinedPoints);"
   ]
  }
 ],
 "metadata": {
  "kernelspec": {
   "display_name": "Java",
   "language": "java",
   "name": "java"
  },
  "language_info": {
   "codemirror_mode": "java",
   "file_extension": ".jshell",
   "mimetype": "text/x-java-source",
   "name": "java",
   "pygments_lexer": "java",
   "version": "21.0.2+13-LTS-58"
  }
 },
 "nbformat": 4,
 "nbformat_minor": 2
}
