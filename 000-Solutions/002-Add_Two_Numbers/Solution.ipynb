{
 "cells": [
  {
   "cell_type": "code",
   "execution_count": null,
   "metadata": {},
   "outputs": [],
   "source": [
    "// Add Two Numbers\n",
    "\n",
    "/*\n",
    ">>>>\n",
    ">>>>\n",
    ">>>>\n",
    ">>>>\n",
    "*/\n"
   ]
  },
  {
   "cell_type": "markdown",
   "metadata": {},
   "source": [
    "# Approach.\n"
   ]
  },
  {
   "cell_type": "code",
   "execution_count": null,
   "metadata": {},
   "outputs": [],
   "source": []
  },
  {
   "cell_type": "code",
   "execution_count": null,
   "metadata": {},
   "outputs": [],
   "source": [
    "/**\n",
    " * Definition for singly-linked list.\n",
    " * public class ListNode {\n",
    " * int val;\n",
    " * ListNode next;\n",
    " * ListNode() {}\n",
    " * ListNode(int val) { this.val = val; }\n",
    " * ListNode(int val, ListNode next) { this.val = val; this.next = next; }\n",
    " * }\n",
    " */\n",
    "class Solution {\n",
    "\n",
    "  public ListNode addTwoNumbers(ListNode l1, ListNode l2) {\n",
    "    ListNode dummy = new ListNode();\n",
    "    ListNode tail = dummy;\n",
    "    int carry = 0;\n",
    "    while (l1 != null || l2 != null) {\n",
    "      int x = (l1 != null) ? l1.val : 0;\n",
    "      int y = (l2 != null) ? l2.val : 0;\n",
    "      int sum = carry + x + y;\n",
    "      carry = sum / 10;\n",
    "      tail.next = new ListNode(sum % 10);\n",
    "      tail = tail.next;\n",
    "      if (l1 != null) l1 = l1.next;\n",
    "      if (l2 != null) l2 = l2.next;\n",
    "    }\n",
    "    if (carry > 0) {\n",
    "      tail.next = new ListNode(carry);\n",
    "    }\n",
    "    return dummy.next;\n",
    "  }\n",
    "}\n"
   ]
  },
  {
   "cell_type": "code",
   "execution_count": null,
   "metadata": {},
   "outputs": [],
   "source": []
  }
 ],
 "metadata": {
  "kernelspec": {
   "display_name": "Java",
   "language": "java",
   "name": "java"
  },
  "language_info": {
   "codemirror_mode": "java",
   "file_extension": ".jshell",
   "mimetype": "text/x-java-source",
   "name": "java",
   "pygments_lexer": "java",
   "version": "21.0.2+13-LTS-58"
  }
 },
 "nbformat": 4,
 "nbformat_minor": 2
}
