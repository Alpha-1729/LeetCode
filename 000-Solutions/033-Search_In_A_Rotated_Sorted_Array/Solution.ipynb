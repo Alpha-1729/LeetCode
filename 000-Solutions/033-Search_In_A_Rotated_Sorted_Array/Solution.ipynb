{
 "cells": [
  {
   "cell_type": "code",
   "execution_count": null,
   "metadata": {},
   "outputs": [],
   "source": [
    "// Search In A Rotated Sorted Array\n",
    "\n",
    "/*\n",
    ">>>>\n",
    ">>>>\n",
    ">>>>\n",
    ">>>>\n",
    "*/\n"
   ]
  },
  {
   "cell_type": "markdown",
   "metadata": {},
   "source": [
    "# Approach.\n",
    "- Divide the array into two.\n",
    "- One side is sorted is sorted and other side is not.\n",
    "- Take the sorted side and check for the number in the middle.\n",
    "- If number is not there, number will be on the next side.\n",
    "- Repeat this process."
   ]
  },
  {
   "cell_type": "code",
   "execution_count": 8,
   "metadata": {},
   "outputs": [],
   "source": [
    "class Solution {\n",
    "\n",
    "  public int search(int[] nums, int target) {\n",
    "    int n = nums.length - 1;\n",
    "    int left = 0, right = n;\n",
    "\n",
    "    while (left <= right) {\n",
    "      int mid = (left + right) / 2;\n",
    "\n",
    "      if (nums[mid] == target) {\n",
    "        return mid;\n",
    "      }\n",
    "\n",
    "      if (nums[left] <= nums[mid]) {\n",
    "        if ((target >= nums[left]) && (target < nums[mid])) {\n",
    "          right = mid - 1;\n",
    "        } else {\n",
    "          left = mid + 1;\n",
    "        }\n",
    "      } else {\n",
    "        if ((target > nums[mid]) && (target <= nums[right])) {\n",
    "          left = mid + 1;\n",
    "        } else {\n",
    "          right = mid - 1;\n",
    "        }\n",
    "      }\n",
    "    }\n",
    "    return -1;\n",
    "  }\n",
    "}\n"
   ]
  },
  {
   "cell_type": "code",
   "execution_count": 11,
   "metadata": {},
   "outputs": [
    {
     "name": "stdout",
     "output_type": "stream",
     "text": [
      "0 1 2 \n",
      "0 0 0 \n"
     ]
    },
    {
     "data": {
      "text/plain": [
       "-1"
      ]
     },
     "execution_count": 11,
     "metadata": {},
     "output_type": "execute_result"
    }
   ],
   "source": [
    "Solution s = new Solution();\n",
    "int [] nums = {1,3,5};\n",
    "s.search(nums , 5);"
   ]
  },
  {
   "cell_type": "code",
   "execution_count": null,
   "metadata": {},
   "outputs": [],
   "source": []
  }
 ],
 "metadata": {
  "kernelspec": {
   "display_name": "Java",
   "language": "java",
   "name": "java"
  },
  "language_info": {
   "codemirror_mode": "java",
   "file_extension": ".jshell",
   "mimetype": "text/x-java-source",
   "name": "java",
   "pygments_lexer": "java",
   "version": "21.0.2+13-LTS-58"
  }
 },
 "nbformat": 4,
 "nbformat_minor": 2
}
