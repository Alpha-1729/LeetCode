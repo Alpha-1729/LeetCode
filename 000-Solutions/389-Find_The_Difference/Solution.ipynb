{
 "cells": [
  {
   "cell_type": "code",
   "execution_count": null,
   "metadata": {},
   "outputs": [],
   "source": [
    "// Find The Difference\n",
    "\n",
    "/*\n",
    ">>>>\n",
    ">>>>\n",
    ">>>>\n",
    ">>>>\n",
    "*/\n"
   ]
  },
  {
   "cell_type": "code",
   "execution_count": 18,
   "metadata": {},
   "outputs": [],
   "source": [
    "class Solution {\n",
    "\n",
    "  public char findTheDifference(String s, String t) {\n",
    "    int map[] = new int[26];\n",
    "    for (char x : t.toCharArray()) {\n",
    "      map[x - 'a']++;\n",
    "    }\n",
    "\n",
    "    for (char x : s.toCharArray()) {\n",
    "      map[x - 'a']--;\n",
    "    }\n",
    "    for (int i = 0; i < 26; i++) {\n",
    "      if (map[i] == 1) {\n",
    "        return (char) ('a' + i);\n",
    "      }\n",
    "    }\n",
    "    return 'a';\n",
    "  }\n",
    "}\n"
   ]
  },
  {
   "cell_type": "code",
   "execution_count": 19,
   "metadata": {},
   "outputs": [
    {
     "data": {
      "text/plain": [
       "e"
      ]
     },
     "execution_count": 19,
     "metadata": {},
     "output_type": "execute_result"
    }
   ],
   "source": [
    "// Best solution using XOR.\n",
    "class Solution {\n",
    "\n",
    "  public char findTheDifference(String s, String t) {\n",
    "    char c = 0;\n",
    "    for (char cs : s.toCharArray()) c ^= cs;\n",
    "    for (char ct : t.toCharArray()) c ^= ct;\n",
    "    return c;\n",
    "  }\n",
    "}\n"
   ]
  }
 ],
 "metadata": {
  "kernelspec": {
   "display_name": "Java",
   "language": "java",
   "name": "java"
  },
  "language_info": {
   "codemirror_mode": "java",
   "file_extension": ".jshell",
   "mimetype": "text/x-java-source",
   "name": "java",
   "pygments_lexer": "java",
   "version": "21.0.2+13-LTS-58"
  }
 },
 "nbformat": 4,
 "nbformat_minor": 2
}
