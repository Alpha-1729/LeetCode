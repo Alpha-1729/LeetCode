{
 "cells": [
  {
   "cell_type": "code",
   "execution_count": null,
   "metadata": {},
   "outputs": [],
   "source": [
    "// Search Insert Position\n",
    "\n",
    "/*\n",
    ">>>>\n",
    ">>>>\n",
    ">>>>\n",
    ">>>>\n",
    "*/\n"
   ]
  },
  {
   "cell_type": "markdown",
   "metadata": {},
   "source": [
    "# Approach.\n",
    "- Implement using binary search.\n"
   ]
  },
  {
   "cell_type": "code",
   "execution_count": null,
   "metadata": {},
   "outputs": [],
   "source": [
    "class Solution {\n",
    "\n",
    "    public int searchInsert(int[] nums, int target) {\n",
    "        int start = 0, end = nums.length - 1, mid = 0;\n",
    "        if (target < nums[start])\n",
    "            return 0;\n",
    "        if (target > nums[end])\n",
    "            return end + 1;\n",
    "\n",
    "        while (start <= end) {\n",
    "            mid = (end + start) / 2;\n",
    "            if (nums[mid] == target) {\n",
    "                return mid;\n",
    "            } else if (nums[mid] < target) {\n",
    "                start = mid + 1;\n",
    "            } else {\n",
    "                end = mid - 1;\n",
    "            }\n",
    "        }\n",
    "        return start;\n",
    "    }\n",
    "}\n"
   ]
  },
  {
   "cell_type": "code",
   "execution_count": null,
   "metadata": {},
   "outputs": [],
   "source": [
    "Solution s = new Solution();\n",
    "s.fib(30);"
   ]
  }
 ],
 "metadata": {
  "kernelspec": {
   "display_name": "Java",
   "language": "java",
   "name": "java"
  },
  "language_info": {
   "codemirror_mode": "java",
   "file_extension": ".jshell",
   "mimetype": "text/x-java-source",
   "name": "java",
   "pygments_lexer": "java",
   "version": "21.0.2+13-LTS-58"
  }
 },
 "nbformat": 4,
 "nbformat_minor": 2
}
