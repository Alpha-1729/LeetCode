{
 "cells": [
  {
   "cell_type": "code",
   "execution_count": null,
   "metadata": {},
   "outputs": [],
   "source": [
    "// Third Maximum Number\n",
    "\n",
    "/*\n",
    ">>>>\n",
    ">>>>\n",
    ">>>>\n",
    ">>>>\n",
    "*/\n"
   ]
  },
  {
   "cell_type": "markdown",
   "metadata": {},
   "source": [
    "# Approach.\n",
    "- Find 1st, 2nd and 3rd max using a single loop.\n"
   ]
  },
  {
   "cell_type": "code",
   "execution_count": 30,
   "metadata": {},
   "outputs": [],
   "source": [
    "// Best solution.\n",
    "class Solution {\n",
    "\n",
    "  public int thirdMax(int[] nums) {\n",
    "    long max1 = Long.MIN_VALUE;\n",
    "    long max2 = Long.MIN_VALUE;\n",
    "    long max3 = Long.MIN_VALUE;\n",
    "    for (int num : nums) {\n",
    "      if (num > max1) {\n",
    "        max3 = max2;\n",
    "        max2 = max1;\n",
    "        max1 = num;\n",
    "      } else if (max1 > num && num > max2) {\n",
    "        max3 = max2;\n",
    "        max2 = num;\n",
    "      } else if (max2 > num && num > max3) {\n",
    "        max3 = num;\n",
    "      }\n",
    "    }\n",
    "    return max3 == Long.MIN_VALUE ? (int) max1 : (int) max3;\n",
    "  }\n",
    "}\n"
   ]
  },
  {
   "cell_type": "code",
   "execution_count": 28,
   "metadata": {},
   "outputs": [],
   "source": [
    "class Solution {\n",
    "\n",
    "  public int thirdMax(int[] nums) {\n",
    "    Integer max1 = null;\n",
    "    Integer max2 = null;\n",
    "    Integer max3 = null;\n",
    "    for (Integer n : nums) {\n",
    "      if (n.equals(max1) || n.equals(max2) || n.equals(max3)) continue;\n",
    "      if (max1 == null || n > max1) {\n",
    "        max3 = max2;\n",
    "        max2 = max1;\n",
    "        max1 = n;\n",
    "      } else if (max2 == null || n > max2) {\n",
    "        max3 = max2;\n",
    "        max2 = n;\n",
    "      } else if (max3 == null || n > max3) {\n",
    "        max3 = n;\n",
    "      }\n",
    "    }\n",
    "    return max3 == null ? max1 : max3;\n",
    "  }\n",
    "}\n"
   ]
  },
  {
   "cell_type": "code",
   "execution_count": 31,
   "metadata": {},
   "outputs": [
    {
     "data": {
      "text/plain": [
       "7"
      ]
     },
     "execution_count": 31,
     "metadata": {},
     "output_type": "execute_result"
    }
   ],
   "source": [
    "Solution s = new Solution();\n",
    "int []  nums = {9,2,3,4,5,5,7,10};\n",
    "s.thirdMax(nums);"
   ]
  }
 ],
 "metadata": {
  "kernelspec": {
   "display_name": "Java",
   "language": "java",
   "name": "java"
  },
  "language_info": {
   "codemirror_mode": "java",
   "file_extension": ".jshell",
   "mimetype": "text/x-java-source",
   "name": "java",
   "pygments_lexer": "java",
   "version": "21.0.2+13-LTS-58"
  }
 },
 "nbformat": 4,
 "nbformat_minor": 2
}
